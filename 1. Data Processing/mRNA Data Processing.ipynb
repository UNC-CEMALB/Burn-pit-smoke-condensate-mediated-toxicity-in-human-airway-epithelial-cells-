{
 "cells": [
  {
   "cell_type": "code",
   "execution_count": 1,
   "id": "e307da0a-3c5d-45bb-a126-ac6c922b49ef",
   "metadata": {
    "scrolled": true
   },
   "outputs": [],
   "source": [
    "# used this to force installation of 'impute' which wasn't available for this version of R\n",
    "# install.packages(\"https://cran.r-project.org/src/contrib/Archive/impute/impute_1.26.0.tar.gz\", repos = NULL, type=\"source\")\n",
    "# if (!require(\"BiocManager\", quietly = TRUE))\n",
    "#     install.packages(\"BiocManager\")\n",
    "\n",
    "# BiocManager::install(\"pcaMethods\")\n",
    "# install.packages(\"imputeLCMD\")"
   ]
  },
  {
   "cell_type": "code",
   "execution_count": 1,
   "id": "98eb429f",
   "metadata": {},
   "outputs": [
    {
     "name": "stderr",
     "output_type": "stream",
     "text": [
      "── \u001b[1mAttaching core tidyverse packages\u001b[22m ──────────────────────── tidyverse 2.0.0 ──\n",
      "\u001b[32m✔\u001b[39m \u001b[34mdplyr    \u001b[39m 1.1.3     \u001b[32m✔\u001b[39m \u001b[34mreadr    \u001b[39m 2.1.4\n",
      "\u001b[32m✔\u001b[39m \u001b[34mforcats  \u001b[39m 1.0.0     \u001b[32m✔\u001b[39m \u001b[34mstringr  \u001b[39m 1.5.0\n",
      "\u001b[32m✔\u001b[39m \u001b[34mggplot2  \u001b[39m 3.4.3     \u001b[32m✔\u001b[39m \u001b[34mtibble   \u001b[39m 3.2.1\n",
      "\u001b[32m✔\u001b[39m \u001b[34mlubridate\u001b[39m 1.9.2     \u001b[32m✔\u001b[39m \u001b[34mtidyr    \u001b[39m 1.3.0\n",
      "\u001b[32m✔\u001b[39m \u001b[34mpurrr    \u001b[39m 1.0.2     \n",
      "── \u001b[1mConflicts\u001b[22m ────────────────────────────────────────── tidyverse_conflicts() ──\n",
      "\u001b[31m✖\u001b[39m \u001b[34mdplyr\u001b[39m::\u001b[32mfilter()\u001b[39m masks \u001b[34mstats\u001b[39m::filter()\n",
      "\u001b[31m✖\u001b[39m \u001b[34mdplyr\u001b[39m::\u001b[32mlag()\u001b[39m    masks \u001b[34mstats\u001b[39m::lag()\n",
      "\u001b[36mℹ\u001b[39m Use the conflicted package (\u001b[3m\u001b[34m<http://conflicted.r-lib.org/>\u001b[39m\u001b[23m) to force all conflicts to become errors\n",
      "\n",
      "Attaching package: ‘reshape2’\n",
      "\n",
      "\n",
      "The following object is masked from ‘package:tidyr’:\n",
      "\n",
      "    smiths\n",
      "\n",
      "\n",
      "Loading required package: tmvtnorm\n",
      "\n",
      "Loading required package: mvtnorm\n",
      "\n",
      "Loading required package: Matrix\n",
      "\n",
      "\n",
      "Attaching package: ‘Matrix’\n",
      "\n",
      "\n",
      "The following objects are masked from ‘package:tidyr’:\n",
      "\n",
      "    expand, pack, unpack\n",
      "\n",
      "\n",
      "Loading required package: stats4\n",
      "\n",
      "Loading required package: gmm\n",
      "\n",
      "Loading required package: sandwich\n",
      "\n",
      "Loading required package: norm\n",
      "\n",
      "This package has some major limitations\n",
      "(for example, it does not work reliably when\n",
      "the number of variables exceeds 30),\n",
      "and has been superseded by the norm2 package.\n",
      "\n",
      "Loading required package: pcaMethods\n",
      "\n",
      "Loading required package: Biobase\n",
      "\n",
      "Loading required package: BiocGenerics\n",
      "\n",
      "\n",
      "Attaching package: ‘BiocGenerics’\n",
      "\n",
      "\n",
      "The following objects are masked from ‘package:lubridate’:\n",
      "\n",
      "    intersect, setdiff, union\n",
      "\n",
      "\n",
      "The following objects are masked from ‘package:dplyr’:\n",
      "\n",
      "    combine, intersect, setdiff, union\n",
      "\n",
      "\n",
      "The following objects are masked from ‘package:stats’:\n",
      "\n",
      "    IQR, mad, sd, var, xtabs\n",
      "\n",
      "\n",
      "The following objects are masked from ‘package:base’:\n",
      "\n",
      "    anyDuplicated, aperm, append, as.data.frame, basename, cbind,\n",
      "    colnames, dirname, do.call, duplicated, eval, evalq, Filter, Find,\n",
      "    get, grep, grepl, intersect, is.unsorted, lapply, Map, mapply,\n",
      "    match, mget, order, paste, pmax, pmax.int, pmin, pmin.int,\n",
      "    Position, rank, rbind, Reduce, rownames, sapply, setdiff, sort,\n",
      "    table, tapply, union, unique, unsplit, which.max, which.min\n",
      "\n",
      "\n",
      "Welcome to Bioconductor\n",
      "\n",
      "    Vignettes contain introductory material; view with\n",
      "    'browseVignettes()'. To cite Bioconductor, see\n",
      "    'citation(\"Biobase\")', and for packages 'citation(\"pkgname\")'.\n",
      "\n",
      "\n",
      "\n",
      "Attaching package: ‘pcaMethods’\n",
      "\n",
      "\n",
      "The following object is masked from ‘package:stats’:\n",
      "\n",
      "    loadings\n",
      "\n",
      "\n",
      "Loading required package: impute\n",
      "\n"
     ]
    }
   ],
   "source": [
    "Output = ('/Users/alexis/Library/CloudStorage/OneDrive-UniversityofNorthCarolinaatChapelHill/CEMALB_DataAnalysisPM/Projects/P1011. Emission Mixtures/P1011.3. Analyses/P1011.3.1. Data Processing/Output')\n",
    "cur_date = \"021424\"\n",
    "\n",
    "library(readxl)\n",
    "library(openxlsx)\n",
    "library(tidyverse)\n",
    "library(reshape2)\n",
    "library(imputeLCMD)\n",
    "library(vsn)\n",
    "\n",
    "# reading in files\n",
    "mRNA_df = data.frame(read_excel(\"Input/mRNA_Data_041423.xlsx\", sheet = 2))"
   ]
  },
  {
   "cell_type": "code",
   "execution_count": 2,
   "id": "e3981b95",
   "metadata": {},
   "outputs": [
    {
     "data": {
      "text/html": [
       "<table class=\"dataframe\">\n",
       "<caption>A data.frame: 6 × 10</caption>\n",
       "<thead>\n",
       "\t<tr><th></th><th scope=col>Subject_No</th><th scope=col>Subject_ID</th><th scope=col>mRNA</th><th scope=col>Condensate</th><th scope=col>Burn_Condition</th><th scope=col>Concentration</th><th scope=col>Time_Point</th><th scope=col>Replicate</th><th scope=col>ddCT</th><th scope=col>ddCT_pslog2</th></tr>\n",
       "\t<tr><th></th><th scope=col>&lt;dbl&gt;</th><th scope=col>&lt;chr&gt;</th><th scope=col>&lt;chr&gt;</th><th scope=col>&lt;chr&gt;</th><th scope=col>&lt;chr&gt;</th><th scope=col>&lt;chr&gt;</th><th scope=col>&lt;dbl&gt;</th><th scope=col>&lt;dbl&gt;</th><th scope=col>&lt;dbl&gt;</th><th scope=col>&lt;dbl&gt;</th></tr>\n",
       "</thead>\n",
       "<tbody>\n",
       "\t<tr><th scope=row>1</th><td>1</td><td>F_1</td><td>ALDH1A3</td><td>C</td><td>F</td><td>1</td><td>24</td><td>1</td><td>-6.6824749</td><td>4.480105</td></tr>\n",
       "\t<tr><th scope=row>2</th><td>1</td><td>F_1</td><td>ALDH1A3</td><td>C</td><td>F</td><td>1</td><td>72</td><td>1</td><td>-0.2119125</td><td>4.847400</td></tr>\n",
       "\t<tr><th scope=row>3</th><td>1</td><td>F_1</td><td>ALDH1A3</td><td>C</td><td>S</td><td>1</td><td>72</td><td>1</td><td> 0.3529920</td><td>4.875436</td></tr>\n",
       "\t<tr><th scope=row>4</th><td>1</td><td>F_1</td><td>ALDH1A3</td><td>C</td><td>F</td><td>5</td><td>24</td><td>1</td><td>-0.1184095</td><td>4.852078</td></tr>\n",
       "\t<tr><th scope=row>5</th><td>1</td><td>F_1</td><td>ALDH1A3</td><td>P</td><td>F</td><td>1</td><td>24</td><td>1</td><td>-0.2508904</td><td>4.845445</td></tr>\n",
       "\t<tr><th scope=row>6</th><td>1</td><td>F_1</td><td>ALDH1A3</td><td>P</td><td>S</td><td>1</td><td>24</td><td>1</td><td> 0.9715878</td><td>4.905524</td></tr>\n",
       "</tbody>\n",
       "</table>\n"
      ],
      "text/latex": [
       "A data.frame: 6 × 10\n",
       "\\begin{tabular}{r|llllllllll}\n",
       "  & Subject\\_No & Subject\\_ID & mRNA & Condensate & Burn\\_Condition & Concentration & Time\\_Point & Replicate & ddCT & ddCT\\_pslog2\\\\\n",
       "  & <dbl> & <chr> & <chr> & <chr> & <chr> & <chr> & <dbl> & <dbl> & <dbl> & <dbl>\\\\\n",
       "\\hline\n",
       "\t1 & 1 & F\\_1 & ALDH1A3 & C & F & 1 & 24 & 1 & -6.6824749 & 4.480105\\\\\n",
       "\t2 & 1 & F\\_1 & ALDH1A3 & C & F & 1 & 72 & 1 & -0.2119125 & 4.847400\\\\\n",
       "\t3 & 1 & F\\_1 & ALDH1A3 & C & S & 1 & 72 & 1 &  0.3529920 & 4.875436\\\\\n",
       "\t4 & 1 & F\\_1 & ALDH1A3 & C & F & 5 & 24 & 1 & -0.1184095 & 4.852078\\\\\n",
       "\t5 & 1 & F\\_1 & ALDH1A3 & P & F & 1 & 24 & 1 & -0.2508904 & 4.845445\\\\\n",
       "\t6 & 1 & F\\_1 & ALDH1A3 & P & S & 1 & 24 & 1 &  0.9715878 & 4.905524\\\\\n",
       "\\end{tabular}\n"
      ],
      "text/markdown": [
       "\n",
       "A data.frame: 6 × 10\n",
       "\n",
       "| <!--/--> | Subject_No &lt;dbl&gt; | Subject_ID &lt;chr&gt; | mRNA &lt;chr&gt; | Condensate &lt;chr&gt; | Burn_Condition &lt;chr&gt; | Concentration &lt;chr&gt; | Time_Point &lt;dbl&gt; | Replicate &lt;dbl&gt; | ddCT &lt;dbl&gt; | ddCT_pslog2 &lt;dbl&gt; |\n",
       "|---|---|---|---|---|---|---|---|---|---|---|\n",
       "| 1 | 1 | F_1 | ALDH1A3 | C | F | 1 | 24 | 1 | -6.6824749 | 4.480105 |\n",
       "| 2 | 1 | F_1 | ALDH1A3 | C | F | 1 | 72 | 1 | -0.2119125 | 4.847400 |\n",
       "| 3 | 1 | F_1 | ALDH1A3 | C | S | 1 | 72 | 1 |  0.3529920 | 4.875436 |\n",
       "| 4 | 1 | F_1 | ALDH1A3 | C | F | 5 | 24 | 1 | -0.1184095 | 4.852078 |\n",
       "| 5 | 1 | F_1 | ALDH1A3 | P | F | 1 | 24 | 1 | -0.2508904 | 4.845445 |\n",
       "| 6 | 1 | F_1 | ALDH1A3 | P | S | 1 | 24 | 1 |  0.9715878 | 4.905524 |\n",
       "\n"
      ],
      "text/plain": [
       "  Subject_No Subject_ID mRNA    Condensate Burn_Condition Concentration\n",
       "1 1          F_1        ALDH1A3 C          F              1            \n",
       "2 1          F_1        ALDH1A3 C          F              1            \n",
       "3 1          F_1        ALDH1A3 C          S              1            \n",
       "4 1          F_1        ALDH1A3 C          F              5            \n",
       "5 1          F_1        ALDH1A3 P          F              1            \n",
       "6 1          F_1        ALDH1A3 P          S              1            \n",
       "  Time_Point Replicate ddCT       ddCT_pslog2\n",
       "1 24         1         -6.6824749 4.480105   \n",
       "2 72         1         -0.2119125 4.847400   \n",
       "3 72         1          0.3529920 4.875436   \n",
       "4 24         1         -0.1184095 4.852078   \n",
       "5 24         1         -0.2508904 4.845445   \n",
       "6 24         1          0.9715878 4.905524   "
      ]
     },
     "metadata": {},
     "output_type": "display_data"
    }
   ],
   "source": [
    "head(mRNA_df)"
   ]
  },
  {
   "cell_type": "markdown",
   "id": "2992e7ae",
   "metadata": {},
   "source": [
    "Identifying the number of replicates for each sample condition."
   ]
  },
  {
   "cell_type": "code",
   "execution_count": 3,
   "id": "5bb40eff",
   "metadata": {},
   "outputs": [
    {
     "data": {
      "text/html": [
       "<table class=\"dataframe\">\n",
       "<caption>A grouped_df: 6 × 11</caption>\n",
       "<thead>\n",
       "\t<tr><th scope=col>Subject_No</th><th scope=col>Subject_ID</th><th scope=col>mRNA</th><th scope=col>Condensate</th><th scope=col>Burn_Condition</th><th scope=col>Concentration</th><th scope=col>Time_Point</th><th scope=col>Replicate</th><th scope=col>ddCT</th><th scope=col>ddCT_pslog2</th><th scope=col>Duplicate_Count</th></tr>\n",
       "\t<tr><th scope=col>&lt;dbl&gt;</th><th scope=col>&lt;chr&gt;</th><th scope=col>&lt;chr&gt;</th><th scope=col>&lt;chr&gt;</th><th scope=col>&lt;chr&gt;</th><th scope=col>&lt;chr&gt;</th><th scope=col>&lt;dbl&gt;</th><th scope=col>&lt;dbl&gt;</th><th scope=col>&lt;dbl&gt;</th><th scope=col>&lt;dbl&gt;</th><th scope=col>&lt;int&gt;</th></tr>\n",
       "</thead>\n",
       "<tbody>\n",
       "\t<tr><td>6</td><td>M_6</td><td>HMOX1</td><td>PBS</td><td>PBS</td><td>NA</td><td>24</td><td>NA</td><td> 0.70848207</td><td>4.892803</td><td>6</td></tr>\n",
       "\t<tr><td>6</td><td>M_6</td><td>HMOX1</td><td>PBS</td><td>PBS</td><td>NA</td><td>24</td><td>NA</td><td> 0.36651641</td><td>4.876100</td><td>6</td></tr>\n",
       "\t<tr><td>6</td><td>M_6</td><td>HMOX1</td><td>PBS</td><td>PBS</td><td>NA</td><td>24</td><td>NA</td><td>-0.09090465</td><td>4.853452</td><td>6</td></tr>\n",
       "\t<tr><td>6</td><td>M_6</td><td>HMOX1</td><td>PBS</td><td>PBS</td><td>NA</td><td>24</td><td>NA</td><td>-0.37654696</td><td>4.839126</td><td>6</td></tr>\n",
       "\t<tr><td>6</td><td>M_6</td><td>HMOX1</td><td>PBS</td><td>PBS</td><td>NA</td><td>24</td><td>NA</td><td> 0.72283828</td><td>4.893500</td><td>6</td></tr>\n",
       "\t<tr><td>6</td><td>M_6</td><td>HMOX1</td><td>PBS</td><td>PBS</td><td>NA</td><td>24</td><td>NA</td><td> 0.37135970</td><td>4.876338</td><td>6</td></tr>\n",
       "</tbody>\n",
       "</table>\n"
      ],
      "text/latex": [
       "A grouped\\_df: 6 × 11\n",
       "\\begin{tabular}{lllllllllll}\n",
       " Subject\\_No & Subject\\_ID & mRNA & Condensate & Burn\\_Condition & Concentration & Time\\_Point & Replicate & ddCT & ddCT\\_pslog2 & Duplicate\\_Count\\\\\n",
       " <dbl> & <chr> & <chr> & <chr> & <chr> & <chr> & <dbl> & <dbl> & <dbl> & <dbl> & <int>\\\\\n",
       "\\hline\n",
       "\t 6 & M\\_6 & HMOX1 & PBS & PBS & NA & 24 & NA &  0.70848207 & 4.892803 & 6\\\\\n",
       "\t 6 & M\\_6 & HMOX1 & PBS & PBS & NA & 24 & NA &  0.36651641 & 4.876100 & 6\\\\\n",
       "\t 6 & M\\_6 & HMOX1 & PBS & PBS & NA & 24 & NA & -0.09090465 & 4.853452 & 6\\\\\n",
       "\t 6 & M\\_6 & HMOX1 & PBS & PBS & NA & 24 & NA & -0.37654696 & 4.839126 & 6\\\\\n",
       "\t 6 & M\\_6 & HMOX1 & PBS & PBS & NA & 24 & NA &  0.72283828 & 4.893500 & 6\\\\\n",
       "\t 6 & M\\_6 & HMOX1 & PBS & PBS & NA & 24 & NA &  0.37135970 & 4.876338 & 6\\\\\n",
       "\\end{tabular}\n"
      ],
      "text/markdown": [
       "\n",
       "A grouped_df: 6 × 11\n",
       "\n",
       "| Subject_No &lt;dbl&gt; | Subject_ID &lt;chr&gt; | mRNA &lt;chr&gt; | Condensate &lt;chr&gt; | Burn_Condition &lt;chr&gt; | Concentration &lt;chr&gt; | Time_Point &lt;dbl&gt; | Replicate &lt;dbl&gt; | ddCT &lt;dbl&gt; | ddCT_pslog2 &lt;dbl&gt; | Duplicate_Count &lt;int&gt; |\n",
       "|---|---|---|---|---|---|---|---|---|---|---|\n",
       "| 6 | M_6 | HMOX1 | PBS | PBS | NA | 24 | NA |  0.70848207 | 4.892803 | 6 |\n",
       "| 6 | M_6 | HMOX1 | PBS | PBS | NA | 24 | NA |  0.36651641 | 4.876100 | 6 |\n",
       "| 6 | M_6 | HMOX1 | PBS | PBS | NA | 24 | NA | -0.09090465 | 4.853452 | 6 |\n",
       "| 6 | M_6 | HMOX1 | PBS | PBS | NA | 24 | NA | -0.37654696 | 4.839126 | 6 |\n",
       "| 6 | M_6 | HMOX1 | PBS | PBS | NA | 24 | NA |  0.72283828 | 4.893500 | 6 |\n",
       "| 6 | M_6 | HMOX1 | PBS | PBS | NA | 24 | NA |  0.37135970 | 4.876338 | 6 |\n",
       "\n"
      ],
      "text/plain": [
       "  Subject_No Subject_ID mRNA  Condensate Burn_Condition Concentration\n",
       "1 6          M_6        HMOX1 PBS        PBS            NA           \n",
       "2 6          M_6        HMOX1 PBS        PBS            NA           \n",
       "3 6          M_6        HMOX1 PBS        PBS            NA           \n",
       "4 6          M_6        HMOX1 PBS        PBS            NA           \n",
       "5 6          M_6        HMOX1 PBS        PBS            NA           \n",
       "6 6          M_6        HMOX1 PBS        PBS            NA           \n",
       "  Time_Point Replicate ddCT        ddCT_pslog2 Duplicate_Count\n",
       "1 24         NA         0.70848207 4.892803    6              \n",
       "2 24         NA         0.36651641 4.876100    6              \n",
       "3 24         NA        -0.09090465 4.853452    6              \n",
       "4 24         NA        -0.37654696 4.839126    6              \n",
       "5 24         NA         0.72283828 4.893500    6              \n",
       "6 24         NA         0.37135970 4.876338    6              "
      ]
     },
     "metadata": {},
     "output_type": "display_data"
    }
   ],
   "source": [
    "count_mRNA_df = mRNA_df %>%\n",
    "    group_by(mRNA, Subject_ID, Condensate, Burn_Condition, Concentration, Time_Point) %>%\n",
    "    mutate(Duplicate_Count = n()) %>% \n",
    "    arrange(-Duplicate_Count, mRNA, Subject_No, Condensate, Burn_Condition, Concentration, Time_Point) \n",
    "\n",
    "head(count_mRNA_df)"
   ]
  },
  {
   "cell_type": "code",
   "execution_count": 4,
   "id": "3f079a1f",
   "metadata": {},
   "outputs": [
    {
     "data": {
      "text/html": [
       "<table class=\"dataframe\">\n",
       "<caption>A grouped_df: 6 × 2</caption>\n",
       "<thead>\n",
       "\t<tr><th scope=col>Duplicate_Count</th><th scope=col>n</th></tr>\n",
       "\t<tr><th scope=col>&lt;int&gt;</th><th scope=col>&lt;int&gt;</th></tr>\n",
       "</thead>\n",
       "<tbody>\n",
       "\t<tr><td>6</td><td>   6</td></tr>\n",
       "\t<tr><td>5</td><td>  80</td></tr>\n",
       "\t<tr><td>4</td><td> 328</td></tr>\n",
       "\t<tr><td>3</td><td>  96</td></tr>\n",
       "\t<tr><td>2</td><td>1340</td></tr>\n",
       "\t<tr><td>1</td><td>2361</td></tr>\n",
       "</tbody>\n",
       "</table>\n"
      ],
      "text/latex": [
       "A grouped\\_df: 6 × 2\n",
       "\\begin{tabular}{ll}\n",
       " Duplicate\\_Count & n\\\\\n",
       " <int> & <int>\\\\\n",
       "\\hline\n",
       "\t 6 &    6\\\\\n",
       "\t 5 &   80\\\\\n",
       "\t 4 &  328\\\\\n",
       "\t 3 &   96\\\\\n",
       "\t 2 & 1340\\\\\n",
       "\t 1 & 2361\\\\\n",
       "\\end{tabular}\n"
      ],
      "text/markdown": [
       "\n",
       "A grouped_df: 6 × 2\n",
       "\n",
       "| Duplicate_Count &lt;int&gt; | n &lt;int&gt; |\n",
       "|---|---|\n",
       "| 6 |    6 |\n",
       "| 5 |   80 |\n",
       "| 4 |  328 |\n",
       "| 3 |   96 |\n",
       "| 2 | 1340 |\n",
       "| 1 | 2361 |\n",
       "\n"
      ],
      "text/plain": [
       "  Duplicate_Count n   \n",
       "1 6                  6\n",
       "2 5                 80\n",
       "3 4                328\n",
       "4 3                 96\n",
       "5 2               1340\n",
       "6 1               2361"
      ]
     },
     "metadata": {},
     "output_type": "display_data"
    }
   ],
   "source": [
    "replicate_count_df = count_mRNA_df %>%\n",
    "    group_by(Duplicate_Count) %>%\n",
    "    count() %>%\n",
    "    arrange(-Duplicate_Count) \n",
    "\n",
    "replicate_count_df"
   ]
  },
  {
   "cell_type": "code",
   "execution_count": 5,
   "id": "c36c470a",
   "metadata": {},
   "outputs": [
    {
     "data": {
      "text/html": [
       "<table class=\"dataframe\">\n",
       "<caption>A grouped_df: 6 × 10</caption>\n",
       "<thead>\n",
       "\t<tr><th scope=col>Subject_No</th><th scope=col>Subject_ID</th><th scope=col>mRNA</th><th scope=col>Condensate</th><th scope=col>Burn_Condition</th><th scope=col>Concentration</th><th scope=col>Time_Point</th><th scope=col>Replicate</th><th scope=col>ddCT</th><th scope=col>ddCT_pslog2</th></tr>\n",
       "\t<tr><th scope=col>&lt;dbl&gt;</th><th scope=col>&lt;chr&gt;</th><th scope=col>&lt;chr&gt;</th><th scope=col>&lt;chr&gt;</th><th scope=col>&lt;chr&gt;</th><th scope=col>&lt;chr&gt;</th><th scope=col>&lt;dbl&gt;</th><th scope=col>&lt;int&gt;</th><th scope=col>&lt;dbl&gt;</th><th scope=col>&lt;dbl&gt;</th></tr>\n",
       "</thead>\n",
       "<tbody>\n",
       "\t<tr><td>6</td><td>M_6</td><td>HMOX1</td><td>PBS</td><td>PBS</td><td>NA</td><td>24</td><td>1</td><td> 0.70848207</td><td>4.892803</td></tr>\n",
       "\t<tr><td>6</td><td>M_6</td><td>HMOX1</td><td>PBS</td><td>PBS</td><td>NA</td><td>24</td><td>2</td><td> 0.36651641</td><td>4.876100</td></tr>\n",
       "\t<tr><td>6</td><td>M_6</td><td>HMOX1</td><td>PBS</td><td>PBS</td><td>NA</td><td>24</td><td>3</td><td>-0.09090465</td><td>4.853452</td></tr>\n",
       "\t<tr><td>6</td><td>M_6</td><td>HMOX1</td><td>PBS</td><td>PBS</td><td>NA</td><td>24</td><td>4</td><td>-0.37654696</td><td>4.839126</td></tr>\n",
       "\t<tr><td>6</td><td>M_6</td><td>HMOX1</td><td>PBS</td><td>PBS</td><td>NA</td><td>24</td><td>5</td><td> 0.72283828</td><td>4.893500</td></tr>\n",
       "\t<tr><td>6</td><td>M_6</td><td>HMOX1</td><td>PBS</td><td>PBS</td><td>NA</td><td>24</td><td>6</td><td> 0.37135970</td><td>4.876338</td></tr>\n",
       "</tbody>\n",
       "</table>\n"
      ],
      "text/latex": [
       "A grouped\\_df: 6 × 10\n",
       "\\begin{tabular}{llllllllll}\n",
       " Subject\\_No & Subject\\_ID & mRNA & Condensate & Burn\\_Condition & Concentration & Time\\_Point & Replicate & ddCT & ddCT\\_pslog2\\\\\n",
       " <dbl> & <chr> & <chr> & <chr> & <chr> & <chr> & <dbl> & <int> & <dbl> & <dbl>\\\\\n",
       "\\hline\n",
       "\t 6 & M\\_6 & HMOX1 & PBS & PBS & NA & 24 & 1 &  0.70848207 & 4.892803\\\\\n",
       "\t 6 & M\\_6 & HMOX1 & PBS & PBS & NA & 24 & 2 &  0.36651641 & 4.876100\\\\\n",
       "\t 6 & M\\_6 & HMOX1 & PBS & PBS & NA & 24 & 3 & -0.09090465 & 4.853452\\\\\n",
       "\t 6 & M\\_6 & HMOX1 & PBS & PBS & NA & 24 & 4 & -0.37654696 & 4.839126\\\\\n",
       "\t 6 & M\\_6 & HMOX1 & PBS & PBS & NA & 24 & 5 &  0.72283828 & 4.893500\\\\\n",
       "\t 6 & M\\_6 & HMOX1 & PBS & PBS & NA & 24 & 6 &  0.37135970 & 4.876338\\\\\n",
       "\\end{tabular}\n"
      ],
      "text/markdown": [
       "\n",
       "A grouped_df: 6 × 10\n",
       "\n",
       "| Subject_No &lt;dbl&gt; | Subject_ID &lt;chr&gt; | mRNA &lt;chr&gt; | Condensate &lt;chr&gt; | Burn_Condition &lt;chr&gt; | Concentration &lt;chr&gt; | Time_Point &lt;dbl&gt; | Replicate &lt;int&gt; | ddCT &lt;dbl&gt; | ddCT_pslog2 &lt;dbl&gt; |\n",
       "|---|---|---|---|---|---|---|---|---|---|\n",
       "| 6 | M_6 | HMOX1 | PBS | PBS | NA | 24 | 1 |  0.70848207 | 4.892803 |\n",
       "| 6 | M_6 | HMOX1 | PBS | PBS | NA | 24 | 2 |  0.36651641 | 4.876100 |\n",
       "| 6 | M_6 | HMOX1 | PBS | PBS | NA | 24 | 3 | -0.09090465 | 4.853452 |\n",
       "| 6 | M_6 | HMOX1 | PBS | PBS | NA | 24 | 4 | -0.37654696 | 4.839126 |\n",
       "| 6 | M_6 | HMOX1 | PBS | PBS | NA | 24 | 5 |  0.72283828 | 4.893500 |\n",
       "| 6 | M_6 | HMOX1 | PBS | PBS | NA | 24 | 6 |  0.37135970 | 4.876338 |\n",
       "\n"
      ],
      "text/plain": [
       "  Subject_No Subject_ID mRNA  Condensate Burn_Condition Concentration\n",
       "1 6          M_6        HMOX1 PBS        PBS            NA           \n",
       "2 6          M_6        HMOX1 PBS        PBS            NA           \n",
       "3 6          M_6        HMOX1 PBS        PBS            NA           \n",
       "4 6          M_6        HMOX1 PBS        PBS            NA           \n",
       "5 6          M_6        HMOX1 PBS        PBS            NA           \n",
       "6 6          M_6        HMOX1 PBS        PBS            NA           \n",
       "  Time_Point Replicate ddCT        ddCT_pslog2\n",
       "1 24         1          0.70848207 4.892803   \n",
       "2 24         2          0.36651641 4.876100   \n",
       "3 24         3         -0.09090465 4.853452   \n",
       "4 24         4         -0.37654696 4.839126   \n",
       "5 24         5          0.72283828 4.893500   \n",
       "6 24         6          0.37135970 4.876338   "
      ]
     },
     "metadata": {},
     "output_type": "display_data"
    }
   ],
   "source": [
    "# creating a new column for the replicate number for each condition\n",
    "replicate_vector = c()\n",
    "for (i in 1:length(replicate_count_df$n)){\n",
    "    # calculating number of times to repeat the replicate number from 1 to the count\n",
    "    replicate_count = replicate_count_df$n[i]/replicate_count_df$Duplicate_Count[i]\n",
    "    replicate_iteration = rep(1:replicate_count_df$Duplicate_Count[i], times = replicate_count)\n",
    "    \n",
    "    # saving iteration\n",
    "    replicate_vector = c(replicate_vector, replicate_iteration)\n",
    "    \n",
    "}\n",
    "\n",
    "# adding to df \n",
    "count_mRNA_df$Replicate = replicate_vector\n",
    "mRNA_df = count_mRNA_df %>%\n",
    "    select(-Duplicate_Count)\n",
    "\n",
    "head(mRNA_df)"
   ]
  },
  {
   "cell_type": "markdown",
   "id": "76d36026",
   "metadata": {},
   "source": [
    "Take the average ddCT to get rid of the replicates."
   ]
  },
  {
   "cell_type": "code",
   "execution_count": 6,
   "id": "596e68ee",
   "metadata": {
    "scrolled": true
   },
   "outputs": [
    {
     "data": {
      "text/html": [
       "<table class=\"dataframe\">\n",
       "<caption>A tibble: 6 × 8</caption>\n",
       "<thead>\n",
       "\t<tr><th scope=col>Subject_No</th><th scope=col>Subject_ID</th><th scope=col>mRNA</th><th scope=col>Condensate</th><th scope=col>Burn_Condition</th><th scope=col>Concentration</th><th scope=col>Time_Point</th><th scope=col>Avg_ddCT</th></tr>\n",
       "\t<tr><th scope=col>&lt;dbl&gt;</th><th scope=col>&lt;chr&gt;</th><th scope=col>&lt;chr&gt;</th><th scope=col>&lt;chr&gt;</th><th scope=col>&lt;chr&gt;</th><th scope=col>&lt;chr&gt;</th><th scope=col>&lt;dbl&gt;</th><th scope=col>&lt;dbl&gt;</th></tr>\n",
       "</thead>\n",
       "<tbody>\n",
       "\t<tr><td>6</td><td>M_6</td><td>HMOX1  </td><td>PBS</td><td>PBS</td><td>NA</td><td>24</td><td>  0.2836241</td></tr>\n",
       "\t<tr><td>5</td><td>F_5</td><td>ALDH3A1</td><td>PBS</td><td>PBS</td><td>NA</td><td> 4</td><td>  0.4320455</td></tr>\n",
       "\t<tr><td>5</td><td>F_5</td><td>CXCL1  </td><td>PBS</td><td>PBS</td><td>NA</td><td> 4</td><td>  0.6422482</td></tr>\n",
       "\t<tr><td>5</td><td>F_5</td><td>CXCR1  </td><td>PBS</td><td>PBS</td><td>NA</td><td> 4</td><td>-12.4016243</td></tr>\n",
       "\t<tr><td>5</td><td>F_5</td><td>GCLC   </td><td>PBS</td><td>PBS</td><td>NA</td><td> 4</td><td>  0.9108458</td></tr>\n",
       "\t<tr><td>5</td><td>F_5</td><td>GCLM   </td><td>PBS</td><td>PBS</td><td>NA</td><td> 4</td><td>  0.3423809</td></tr>\n",
       "</tbody>\n",
       "</table>\n"
      ],
      "text/latex": [
       "A tibble: 6 × 8\n",
       "\\begin{tabular}{llllllll}\n",
       " Subject\\_No & Subject\\_ID & mRNA & Condensate & Burn\\_Condition & Concentration & Time\\_Point & Avg\\_ddCT\\\\\n",
       " <dbl> & <chr> & <chr> & <chr> & <chr> & <chr> & <dbl> & <dbl>\\\\\n",
       "\\hline\n",
       "\t 6 & M\\_6 & HMOX1   & PBS & PBS & NA & 24 &   0.2836241\\\\\n",
       "\t 5 & F\\_5 & ALDH3A1 & PBS & PBS & NA &  4 &   0.4320455\\\\\n",
       "\t 5 & F\\_5 & CXCL1   & PBS & PBS & NA &  4 &   0.6422482\\\\\n",
       "\t 5 & F\\_5 & CXCR1   & PBS & PBS & NA &  4 & -12.4016243\\\\\n",
       "\t 5 & F\\_5 & GCLC    & PBS & PBS & NA &  4 &   0.9108458\\\\\n",
       "\t 5 & F\\_5 & GCLM    & PBS & PBS & NA &  4 &   0.3423809\\\\\n",
       "\\end{tabular}\n"
      ],
      "text/markdown": [
       "\n",
       "A tibble: 6 × 8\n",
       "\n",
       "| Subject_No &lt;dbl&gt; | Subject_ID &lt;chr&gt; | mRNA &lt;chr&gt; | Condensate &lt;chr&gt; | Burn_Condition &lt;chr&gt; | Concentration &lt;chr&gt; | Time_Point &lt;dbl&gt; | Avg_ddCT &lt;dbl&gt; |\n",
       "|---|---|---|---|---|---|---|---|\n",
       "| 6 | M_6 | HMOX1   | PBS | PBS | NA | 24 |   0.2836241 |\n",
       "| 5 | F_5 | ALDH3A1 | PBS | PBS | NA |  4 |   0.4320455 |\n",
       "| 5 | F_5 | CXCL1   | PBS | PBS | NA |  4 |   0.6422482 |\n",
       "| 5 | F_5 | CXCR1   | PBS | PBS | NA |  4 | -12.4016243 |\n",
       "| 5 | F_5 | GCLC    | PBS | PBS | NA |  4 |   0.9108458 |\n",
       "| 5 | F_5 | GCLM    | PBS | PBS | NA |  4 |   0.3423809 |\n",
       "\n"
      ],
      "text/plain": [
       "  Subject_No Subject_ID mRNA    Condensate Burn_Condition Concentration\n",
       "1 6          M_6        HMOX1   PBS        PBS            NA           \n",
       "2 5          F_5        ALDH3A1 PBS        PBS            NA           \n",
       "3 5          F_5        CXCL1   PBS        PBS            NA           \n",
       "4 5          F_5        CXCR1   PBS        PBS            NA           \n",
       "5 5          F_5        GCLC    PBS        PBS            NA           \n",
       "6 5          F_5        GCLM    PBS        PBS            NA           \n",
       "  Time_Point Avg_ddCT   \n",
       "1 24           0.2836241\n",
       "2  4           0.4320455\n",
       "3  4           0.6422482\n",
       "4  4         -12.4016243\n",
       "5  4           0.9108458\n",
       "6  4           0.3423809"
      ]
     },
     "metadata": {},
     "output_type": "display_data"
    }
   ],
   "source": [
    "avg_mRNA_df = mRNA_df %>%\n",
    "    group_by(mRNA, Subject_ID, Condensate, Burn_Condition, Concentration, Time_Point) %>%\n",
    "    mutate(Avg_ddCT = mean(ddCT)) %>% \n",
    "    select(-c(\"Replicate\", \"ddCT_pslog2\", \"ddCT\")) %>%\n",
    "    unique() %>%\n",
    "    ungroup()\n",
    "\n",
    "head(avg_mRNA_df)"
   ]
  },
  {
   "cell_type": "markdown",
   "id": "3c17b49a",
   "metadata": {},
   "source": [
    "# Variance Stabilizing Transformation\n",
    "This makes it so that the variance doesn't depend on the mean.\n",
    "https://book.stat420.org/transformations.html"
   ]
  },
  {
   "cell_type": "code",
   "execution_count": 7,
   "id": "f83781d7",
   "metadata": {},
   "outputs": [
    {
     "data": {
      "text/html": [
       "<table class=\"dataframe\">\n",
       "<caption>A data.frame: 6 × 185</caption>\n",
       "<thead>\n",
       "\t<tr><th></th><th scope=col>6_PBS_PBS_NA_24</th><th scope=col>5_PBS_PBS_NA_4</th><th scope=col>1_PBS_PBS_NA_4</th><th scope=col>2_PBS_PBS_NA_4</th><th scope=col>3_PBS_PBS_NA_4</th><th scope=col>4_PBS_PBS_NA_4</th><th scope=col>6_PBS_PBS_NA_4</th><th scope=col>6_PBS_PBS_NA_72</th><th scope=col>1_C_F_25_4</th><th scope=col>1_C_S_25_4</th><th scope=col>⋯</th><th scope=col>6_P_F_1_72</th><th scope=col>6_P_F_25_24</th><th scope=col>6_P_F_25_72</th><th scope=col>6_P_F_5_72</th><th scope=col>6_P_S_1_72</th><th scope=col>6_P_S_25_24</th><th scope=col>6_P_S_25_72</th><th scope=col>6_P_S_5_24</th><th scope=col>1_C_S_1_24</th><th scope=col>5_C_F_1_24</th></tr>\n",
       "\t<tr><th></th><th scope=col>&lt;dbl&gt;</th><th scope=col>&lt;dbl&gt;</th><th scope=col>&lt;dbl&gt;</th><th scope=col>&lt;dbl&gt;</th><th scope=col>&lt;dbl&gt;</th><th scope=col>&lt;dbl&gt;</th><th scope=col>&lt;dbl&gt;</th><th scope=col>&lt;dbl&gt;</th><th scope=col>&lt;dbl&gt;</th><th scope=col>&lt;dbl&gt;</th><th scope=col>⋯</th><th scope=col>&lt;dbl&gt;</th><th scope=col>&lt;dbl&gt;</th><th scope=col>&lt;dbl&gt;</th><th scope=col>&lt;dbl&gt;</th><th scope=col>&lt;dbl&gt;</th><th scope=col>&lt;dbl&gt;</th><th scope=col>&lt;dbl&gt;</th><th scope=col>&lt;dbl&gt;</th><th scope=col>&lt;dbl&gt;</th><th scope=col>&lt;dbl&gt;</th></tr>\n",
       "</thead>\n",
       "<tbody>\n",
       "\t<tr><th scope=row>HMOX1</th><td>  0.2836241</td><td>  1.6220269</td><td>  1.39023414</td><td>  2.1102434</td><td>  2.43685005</td><td>  2.0919311</td><td>  1.702591720</td><td>  0.1381671</td><td> -2.33804668</td><td> -3.22246963</td><td>⋯</td><td>  1.6515563</td><td>NA</td><td>  0.22110064</td><td>  0.7961182</td><td>  0.8983407</td><td> -0.3778758</td><td>  0.5217230</td><td> -0.1241551</td><td>  0.2082109</td><td> -1.0969917</td></tr>\n",
       "\t<tr><th scope=row>ALDH3A1</th><td> -0.4184588</td><td>  0.4320455</td><td>  0.27473008</td><td>  0.1204694</td><td>  0.07055185</td><td> -0.1803027</td><td>  0.009163446</td><td> -1.0577533</td><td>  0.16267528</td><td>  0.41473799</td><td>⋯</td><td> -0.4625463</td><td>NA</td><td> -1.07376220</td><td> -0.9375553</td><td> -1.3269869</td><td>  0.4181893</td><td>  1.7985573</td><td>  0.2135130</td><td>  0.4982387</td><td>  0.4459567</td></tr>\n",
       "\t<tr><th scope=row>CXCL1</th><td> -0.7070283</td><td>  0.6422482</td><td>  0.09744932</td><td>  0.7277660</td><td>  0.35592590</td><td>  0.1674529</td><td>  0.394399876</td><td>  0.8012238</td><td>  0.03556161</td><td>  1.09853908</td><td>⋯</td><td> -1.8990085</td><td>NA</td><td> -0.02792455</td><td>  3.8624448</td><td>  3.3316444</td><td>  1.0462532</td><td>  0.6576701</td><td>  0.7632177</td><td> -0.1058011</td><td> -0.5811714</td></tr>\n",
       "\t<tr><th scope=row>CXCR1</th><td>-13.6424811</td><td>-12.4016243</td><td>-13.70600229</td><td>-13.5821411</td><td>-13.41281279</td><td>-13.2795531</td><td>-12.613186667</td><td>-12.4136794</td><td>-12.90925169</td><td>-14.10350485</td><td>⋯</td><td>-15.0410890</td><td>NA</td><td>-13.34490982</td><td>-11.8789158</td><td>-12.5749978</td><td>-11.9184997</td><td>-12.7449949</td><td>-11.8478948</td><td>-15.5025570</td><td>-13.1482028</td></tr>\n",
       "\t<tr><th scope=row>GCLC</th><td>  0.1048251</td><td>  0.9108458</td><td>  0.90181502</td><td>  0.6517629</td><td>  0.74953458</td><td>  0.6207409</td><td>  0.653683036</td><td>  0.1575451</td><td> -0.31896658</td><td> -0.02863545</td><td>⋯</td><td>  0.3394122</td><td>NA</td><td> -0.82052995</td><td> -0.3441076</td><td> -1.1861843</td><td>  0.1192901</td><td>  0.8528297</td><td>  0.1874478</td><td> -0.1877919</td><td> -0.6381514</td></tr>\n",
       "\t<tr><th scope=row>GCLM</th><td> -0.4755476</td><td>  0.3423809</td><td>  0.44173568</td><td>  0.2984414</td><td>  0.36819982</td><td>  0.2192093</td><td>  0.007537574</td><td> -0.3875209</td><td>  0.12643633</td><td>  0.32477261</td><td>⋯</td><td> -0.3960734</td><td>NA</td><td>  0.15394273</td><td> -0.3305644</td><td> -0.1075840</td><td>  0.3011212</td><td>  0.4951484</td><td>  0.2571859</td><td>  0.3863060</td><td> -0.1976982</td></tr>\n",
       "</tbody>\n",
       "</table>\n"
      ],
      "text/latex": [
       "A data.frame: 6 × 185\n",
       "\\begin{tabular}{r|lllllllllllllllllllll}\n",
       "  & 6\\_PBS\\_PBS\\_NA\\_24 & 5\\_PBS\\_PBS\\_NA\\_4 & 1\\_PBS\\_PBS\\_NA\\_4 & 2\\_PBS\\_PBS\\_NA\\_4 & 3\\_PBS\\_PBS\\_NA\\_4 & 4\\_PBS\\_PBS\\_NA\\_4 & 6\\_PBS\\_PBS\\_NA\\_4 & 6\\_PBS\\_PBS\\_NA\\_72 & 1\\_C\\_F\\_25\\_4 & 1\\_C\\_S\\_25\\_4 & ⋯ & 6\\_P\\_F\\_1\\_72 & 6\\_P\\_F\\_25\\_24 & 6\\_P\\_F\\_25\\_72 & 6\\_P\\_F\\_5\\_72 & 6\\_P\\_S\\_1\\_72 & 6\\_P\\_S\\_25\\_24 & 6\\_P\\_S\\_25\\_72 & 6\\_P\\_S\\_5\\_24 & 1\\_C\\_S\\_1\\_24 & 5\\_C\\_F\\_1\\_24\\\\\n",
       "  & <dbl> & <dbl> & <dbl> & <dbl> & <dbl> & <dbl> & <dbl> & <dbl> & <dbl> & <dbl> & ⋯ & <dbl> & <dbl> & <dbl> & <dbl> & <dbl> & <dbl> & <dbl> & <dbl> & <dbl> & <dbl>\\\\\n",
       "\\hline\n",
       "\tHMOX1 &   0.2836241 &   1.6220269 &   1.39023414 &   2.1102434 &   2.43685005 &   2.0919311 &   1.702591720 &   0.1381671 &  -2.33804668 &  -3.22246963 & ⋯ &   1.6515563 & NA &   0.22110064 &   0.7961182 &   0.8983407 &  -0.3778758 &   0.5217230 &  -0.1241551 &   0.2082109 &  -1.0969917\\\\\n",
       "\tALDH3A1 &  -0.4184588 &   0.4320455 &   0.27473008 &   0.1204694 &   0.07055185 &  -0.1803027 &   0.009163446 &  -1.0577533 &   0.16267528 &   0.41473799 & ⋯ &  -0.4625463 & NA &  -1.07376220 &  -0.9375553 &  -1.3269869 &   0.4181893 &   1.7985573 &   0.2135130 &   0.4982387 &   0.4459567\\\\\n",
       "\tCXCL1 &  -0.7070283 &   0.6422482 &   0.09744932 &   0.7277660 &   0.35592590 &   0.1674529 &   0.394399876 &   0.8012238 &   0.03556161 &   1.09853908 & ⋯ &  -1.8990085 & NA &  -0.02792455 &   3.8624448 &   3.3316444 &   1.0462532 &   0.6576701 &   0.7632177 &  -0.1058011 &  -0.5811714\\\\\n",
       "\tCXCR1 & -13.6424811 & -12.4016243 & -13.70600229 & -13.5821411 & -13.41281279 & -13.2795531 & -12.613186667 & -12.4136794 & -12.90925169 & -14.10350485 & ⋯ & -15.0410890 & NA & -13.34490982 & -11.8789158 & -12.5749978 & -11.9184997 & -12.7449949 & -11.8478948 & -15.5025570 & -13.1482028\\\\\n",
       "\tGCLC &   0.1048251 &   0.9108458 &   0.90181502 &   0.6517629 &   0.74953458 &   0.6207409 &   0.653683036 &   0.1575451 &  -0.31896658 &  -0.02863545 & ⋯ &   0.3394122 & NA &  -0.82052995 &  -0.3441076 &  -1.1861843 &   0.1192901 &   0.8528297 &   0.1874478 &  -0.1877919 &  -0.6381514\\\\\n",
       "\tGCLM &  -0.4755476 &   0.3423809 &   0.44173568 &   0.2984414 &   0.36819982 &   0.2192093 &   0.007537574 &  -0.3875209 &   0.12643633 &   0.32477261 & ⋯ &  -0.3960734 & NA &   0.15394273 &  -0.3305644 &  -0.1075840 &   0.3011212 &   0.4951484 &   0.2571859 &   0.3863060 &  -0.1976982\\\\\n",
       "\\end{tabular}\n"
      ],
      "text/markdown": [
       "\n",
       "A data.frame: 6 × 185\n",
       "\n",
       "| <!--/--> | 6_PBS_PBS_NA_24 &lt;dbl&gt; | 5_PBS_PBS_NA_4 &lt;dbl&gt; | 1_PBS_PBS_NA_4 &lt;dbl&gt; | 2_PBS_PBS_NA_4 &lt;dbl&gt; | 3_PBS_PBS_NA_4 &lt;dbl&gt; | 4_PBS_PBS_NA_4 &lt;dbl&gt; | 6_PBS_PBS_NA_4 &lt;dbl&gt; | 6_PBS_PBS_NA_72 &lt;dbl&gt; | 1_C_F_25_4 &lt;dbl&gt; | 1_C_S_25_4 &lt;dbl&gt; | ⋯ ⋯ | 6_P_F_1_72 &lt;dbl&gt; | 6_P_F_25_24 &lt;dbl&gt; | 6_P_F_25_72 &lt;dbl&gt; | 6_P_F_5_72 &lt;dbl&gt; | 6_P_S_1_72 &lt;dbl&gt; | 6_P_S_25_24 &lt;dbl&gt; | 6_P_S_25_72 &lt;dbl&gt; | 6_P_S_5_24 &lt;dbl&gt; | 1_C_S_1_24 &lt;dbl&gt; | 5_C_F_1_24 &lt;dbl&gt; |\n",
       "|---|---|---|---|---|---|---|---|---|---|---|---|---|---|---|---|---|---|---|---|---|---|\n",
       "| HMOX1 |   0.2836241 |   1.6220269 |   1.39023414 |   2.1102434 |   2.43685005 |   2.0919311 |   1.702591720 |   0.1381671 |  -2.33804668 |  -3.22246963 | ⋯ |   1.6515563 | NA |   0.22110064 |   0.7961182 |   0.8983407 |  -0.3778758 |   0.5217230 |  -0.1241551 |   0.2082109 |  -1.0969917 |\n",
       "| ALDH3A1 |  -0.4184588 |   0.4320455 |   0.27473008 |   0.1204694 |   0.07055185 |  -0.1803027 |   0.009163446 |  -1.0577533 |   0.16267528 |   0.41473799 | ⋯ |  -0.4625463 | NA |  -1.07376220 |  -0.9375553 |  -1.3269869 |   0.4181893 |   1.7985573 |   0.2135130 |   0.4982387 |   0.4459567 |\n",
       "| CXCL1 |  -0.7070283 |   0.6422482 |   0.09744932 |   0.7277660 |   0.35592590 |   0.1674529 |   0.394399876 |   0.8012238 |   0.03556161 |   1.09853908 | ⋯ |  -1.8990085 | NA |  -0.02792455 |   3.8624448 |   3.3316444 |   1.0462532 |   0.6576701 |   0.7632177 |  -0.1058011 |  -0.5811714 |\n",
       "| CXCR1 | -13.6424811 | -12.4016243 | -13.70600229 | -13.5821411 | -13.41281279 | -13.2795531 | -12.613186667 | -12.4136794 | -12.90925169 | -14.10350485 | ⋯ | -15.0410890 | NA | -13.34490982 | -11.8789158 | -12.5749978 | -11.9184997 | -12.7449949 | -11.8478948 | -15.5025570 | -13.1482028 |\n",
       "| GCLC |   0.1048251 |   0.9108458 |   0.90181502 |   0.6517629 |   0.74953458 |   0.6207409 |   0.653683036 |   0.1575451 |  -0.31896658 |  -0.02863545 | ⋯ |   0.3394122 | NA |  -0.82052995 |  -0.3441076 |  -1.1861843 |   0.1192901 |   0.8528297 |   0.1874478 |  -0.1877919 |  -0.6381514 |\n",
       "| GCLM |  -0.4755476 |   0.3423809 |   0.44173568 |   0.2984414 |   0.36819982 |   0.2192093 |   0.007537574 |  -0.3875209 |   0.12643633 |   0.32477261 | ⋯ |  -0.3960734 | NA |   0.15394273 |  -0.3305644 |  -0.1075840 |   0.3011212 |   0.4951484 |   0.2571859 |   0.3863060 |  -0.1976982 |\n",
       "\n"
      ],
      "text/plain": [
       "        6_PBS_PBS_NA_24 5_PBS_PBS_NA_4 1_PBS_PBS_NA_4 2_PBS_PBS_NA_4\n",
       "HMOX1     0.2836241       1.6220269      1.39023414     2.1102434   \n",
       "ALDH3A1  -0.4184588       0.4320455      0.27473008     0.1204694   \n",
       "CXCL1    -0.7070283       0.6422482      0.09744932     0.7277660   \n",
       "CXCR1   -13.6424811     -12.4016243    -13.70600229   -13.5821411   \n",
       "GCLC      0.1048251       0.9108458      0.90181502     0.6517629   \n",
       "GCLM     -0.4755476       0.3423809      0.44173568     0.2984414   \n",
       "        3_PBS_PBS_NA_4 4_PBS_PBS_NA_4 6_PBS_PBS_NA_4 6_PBS_PBS_NA_72\n",
       "HMOX1     2.43685005     2.0919311      1.702591720    0.1381671    \n",
       "ALDH3A1   0.07055185    -0.1803027      0.009163446   -1.0577533    \n",
       "CXCL1     0.35592590     0.1674529      0.394399876    0.8012238    \n",
       "CXCR1   -13.41281279   -13.2795531    -12.613186667  -12.4136794    \n",
       "GCLC      0.74953458     0.6207409      0.653683036    0.1575451    \n",
       "GCLM      0.36819982     0.2192093      0.007537574   -0.3875209    \n",
       "        1_C_F_25_4   1_C_S_25_4   ⋯ 6_P_F_1_72  6_P_F_25_24 6_P_F_25_72 \n",
       "HMOX1    -2.33804668  -3.22246963 ⋯   1.6515563 NA            0.22110064\n",
       "ALDH3A1   0.16267528   0.41473799 ⋯  -0.4625463 NA           -1.07376220\n",
       "CXCL1     0.03556161   1.09853908 ⋯  -1.8990085 NA           -0.02792455\n",
       "CXCR1   -12.90925169 -14.10350485 ⋯ -15.0410890 NA          -13.34490982\n",
       "GCLC     -0.31896658  -0.02863545 ⋯   0.3394122 NA           -0.82052995\n",
       "GCLM      0.12643633   0.32477261 ⋯  -0.3960734 NA            0.15394273\n",
       "        6_P_F_5_72  6_P_S_1_72  6_P_S_25_24 6_P_S_25_72 6_P_S_5_24  1_C_S_1_24 \n",
       "HMOX1     0.7961182   0.8983407  -0.3778758   0.5217230  -0.1241551   0.2082109\n",
       "ALDH3A1  -0.9375553  -1.3269869   0.4181893   1.7985573   0.2135130   0.4982387\n",
       "CXCL1     3.8624448   3.3316444   1.0462532   0.6576701   0.7632177  -0.1058011\n",
       "CXCR1   -11.8789158 -12.5749978 -11.9184997 -12.7449949 -11.8478948 -15.5025570\n",
       "GCLC     -0.3441076  -1.1861843   0.1192901   0.8528297   0.1874478  -0.1877919\n",
       "GCLM     -0.3305644  -0.1075840   0.3011212   0.4951484   0.2571859   0.3863060\n",
       "        5_C_F_1_24 \n",
       "HMOX1    -1.0969917\n",
       "ALDH3A1   0.4459567\n",
       "CXCL1    -0.5811714\n",
       "CXCR1   -13.1482028\n",
       "GCLC     -0.6381514\n",
       "GCLM     -0.1976982"
      ]
     },
     "metadata": {},
     "output_type": "display_data"
    }
   ],
   "source": [
    "# first converting from long to wide format, which is necessary for the vsn function\n",
    "wider_avg_mRNA_df = avg_mRNA_df %>%\n",
    "# creating sample ids\n",
    "    unite(\"SampleID\", c(colnames(avg_mRNA_df)[c(1,4:7)]), sep = \"_\") %>%\n",
    "    select(-Subject_ID) %>%\n",
    "    pivot_wider(names_from = \"SampleID\", values_from = \"Avg_ddCT\") %>%\n",
    "    column_to_rownames(var = \"mRNA\")\n",
    "\n",
    "head(wider_avg_mRNA_df)"
   ]
  },
  {
   "cell_type": "code",
   "execution_count": 8,
   "id": "d84ad566",
   "metadata": {},
   "outputs": [
    {
     "data": {
      "text/html": [
       "<table class=\"dataframe\">\n",
       "<caption>A matrix: 6 × 185 of type dbl</caption>\n",
       "<thead>\n",
       "\t<tr><th></th><th scope=col>6_PBS_PBS_NA_24</th><th scope=col>5_PBS_PBS_NA_4</th><th scope=col>1_PBS_PBS_NA_4</th><th scope=col>2_PBS_PBS_NA_4</th><th scope=col>3_PBS_PBS_NA_4</th><th scope=col>4_PBS_PBS_NA_4</th><th scope=col>6_PBS_PBS_NA_4</th><th scope=col>6_PBS_PBS_NA_72</th><th scope=col>1_C_F_25_4</th><th scope=col>1_C_S_25_4</th><th scope=col>⋯</th><th scope=col>6_P_F_1_72</th><th scope=col>6_P_F_25_24</th><th scope=col>6_P_F_25_72</th><th scope=col>6_P_F_5_72</th><th scope=col>6_P_S_1_72</th><th scope=col>6_P_S_25_24</th><th scope=col>6_P_S_25_72</th><th scope=col>6_P_S_5_24</th><th scope=col>1_C_S_1_24</th><th scope=col>5_C_F_1_24</th></tr>\n",
       "</thead>\n",
       "<tbody>\n",
       "\t<tr><th scope=row>HMOX1</th><td>  3.912311</td><td>  3.067190</td><td>  3.843045</td><td>  3.415457</td><td>  3.234524</td><td>  3.294681</td><td>  3.820872</td><td>  3.703908</td><td>-16.250897</td><td>  0.7883619</td><td>⋯</td><td>  2.629532</td><td>NA</td><td>-17.17265</td><td> -1.229183</td><td>-17.74044</td><td>  2.638051</td><td>  2.409027</td><td>-14.4664678</td><td>  2.094107</td><td>  1.833391</td></tr>\n",
       "\t<tr><th scope=row>ALDH3A1</th><td>  3.715852</td><td>  2.605258</td><td>  3.532961</td><td>  2.692775</td><td>  2.292604</td><td>  2.443504</td><td>  3.301868</td><td>  3.237933</td><td>  2.021796</td><td>  3.6641076</td><td>⋯</td><td>  1.228801</td><td>NA</td><td>-18.06649</td><td>-17.570614</td><td>-18.61131</td><td>  3.065341</td><td>  3.037754</td><td> -2.0847038</td><td>  2.279381</td><td>  2.853769</td></tr>\n",
       "\t<tr><th scope=row>CXCL1</th><td>  3.626645</td><td>  2.698362</td><td>  3.476909</td><td>  2.953958</td><td>  2.444569</td><td>  2.610919</td><td>  3.437396</td><td>  3.909343</td><td>  1.919807</td><td>  3.8811991</td><td>⋯</td><td>-13.877329</td><td>NA</td><td>-17.39302</td><td>  2.873008</td><td>-14.32618</td><td>  3.331071</td><td>  2.490578</td><td>  0.3527938</td><td>  1.862415</td><td>  2.259730</td></tr>\n",
       "\t<tr><th scope=row>CXCR1</th><td>-20.295235</td><td>-19.997376</td><td>-20.310570</td><td>-20.264881</td><td>-20.153403</td><td>-20.079270</td><td>-20.230977</td><td>-20.401478</td><td>-20.385166</td><td>-20.7294483</td><td>⋯</td><td>-20.368879</td><td>NA</td><td>-20.49317</td><td>-20.586011</td><td>-20.32967</td><td>-20.410924</td><td>-20.407928</td><td>-20.2729677</td><td>-20.551241</td><td>-20.421350</td></tr>\n",
       "\t<tr><th scope=row>GCLC</th><td>  3.864761</td><td>  2.809204</td><td>  3.715390</td><td>  2.923745</td><td>  2.630937</td><td>  2.803508</td><td>  3.521934</td><td>  3.710346</td><td>  1.590093</td><td>  3.5035971</td><td>⋯</td><td>  1.926795</td><td>NA</td><td>-17.92993</td><td>-16.870849</td><td>-18.56933</td><td>  2.919338</td><td>  2.600134</td><td> -2.4236255</td><td>  1.795250</td><td>  2.218369</td></tr>\n",
       "\t<tr><th scope=row>GCLM</th><td>  3.698636</td><td>  2.563639</td><td>  3.583843</td><td>  2.774333</td><td>  2.450760</td><td>  2.634254</td><td>  3.301268</td><td>  3.517304</td><td>  1.993447</td><td>  3.6329506</td><td>⋯</td><td>  1.301355</td><td>NA</td><td>-17.23548</td><td>-16.850149</td><td>-18.19948</td><td>  3.009904</td><td>  2.392533</td><td> -1.6508262</td><td>  2.210667</td><td>  2.510943</td></tr>\n",
       "</tbody>\n",
       "</table>\n"
      ],
      "text/latex": [
       "A matrix: 6 × 185 of type dbl\n",
       "\\begin{tabular}{r|lllllllllllllllllllll}\n",
       "  & 6\\_PBS\\_PBS\\_NA\\_24 & 5\\_PBS\\_PBS\\_NA\\_4 & 1\\_PBS\\_PBS\\_NA\\_4 & 2\\_PBS\\_PBS\\_NA\\_4 & 3\\_PBS\\_PBS\\_NA\\_4 & 4\\_PBS\\_PBS\\_NA\\_4 & 6\\_PBS\\_PBS\\_NA\\_4 & 6\\_PBS\\_PBS\\_NA\\_72 & 1\\_C\\_F\\_25\\_4 & 1\\_C\\_S\\_25\\_4 & ⋯ & 6\\_P\\_F\\_1\\_72 & 6\\_P\\_F\\_25\\_24 & 6\\_P\\_F\\_25\\_72 & 6\\_P\\_F\\_5\\_72 & 6\\_P\\_S\\_1\\_72 & 6\\_P\\_S\\_25\\_24 & 6\\_P\\_S\\_25\\_72 & 6\\_P\\_S\\_5\\_24 & 1\\_C\\_S\\_1\\_24 & 5\\_C\\_F\\_1\\_24\\\\\n",
       "\\hline\n",
       "\tHMOX1 &   3.912311 &   3.067190 &   3.843045 &   3.415457 &   3.234524 &   3.294681 &   3.820872 &   3.703908 & -16.250897 &   0.7883619 & ⋯ &   2.629532 & NA & -17.17265 &  -1.229183 & -17.74044 &   2.638051 &   2.409027 & -14.4664678 &   2.094107 &   1.833391\\\\\n",
       "\tALDH3A1 &   3.715852 &   2.605258 &   3.532961 &   2.692775 &   2.292604 &   2.443504 &   3.301868 &   3.237933 &   2.021796 &   3.6641076 & ⋯ &   1.228801 & NA & -18.06649 & -17.570614 & -18.61131 &   3.065341 &   3.037754 &  -2.0847038 &   2.279381 &   2.853769\\\\\n",
       "\tCXCL1 &   3.626645 &   2.698362 &   3.476909 &   2.953958 &   2.444569 &   2.610919 &   3.437396 &   3.909343 &   1.919807 &   3.8811991 & ⋯ & -13.877329 & NA & -17.39302 &   2.873008 & -14.32618 &   3.331071 &   2.490578 &   0.3527938 &   1.862415 &   2.259730\\\\\n",
       "\tCXCR1 & -20.295235 & -19.997376 & -20.310570 & -20.264881 & -20.153403 & -20.079270 & -20.230977 & -20.401478 & -20.385166 & -20.7294483 & ⋯ & -20.368879 & NA & -20.49317 & -20.586011 & -20.32967 & -20.410924 & -20.407928 & -20.2729677 & -20.551241 & -20.421350\\\\\n",
       "\tGCLC &   3.864761 &   2.809204 &   3.715390 &   2.923745 &   2.630937 &   2.803508 &   3.521934 &   3.710346 &   1.590093 &   3.5035971 & ⋯ &   1.926795 & NA & -17.92993 & -16.870849 & -18.56933 &   2.919338 &   2.600134 &  -2.4236255 &   1.795250 &   2.218369\\\\\n",
       "\tGCLM &   3.698636 &   2.563639 &   3.583843 &   2.774333 &   2.450760 &   2.634254 &   3.301268 &   3.517304 &   1.993447 &   3.6329506 & ⋯ &   1.301355 & NA & -17.23548 & -16.850149 & -18.19948 &   3.009904 &   2.392533 &  -1.6508262 &   2.210667 &   2.510943\\\\\n",
       "\\end{tabular}\n"
      ],
      "text/markdown": [
       "\n",
       "A matrix: 6 × 185 of type dbl\n",
       "\n",
       "| <!--/--> | 6_PBS_PBS_NA_24 | 5_PBS_PBS_NA_4 | 1_PBS_PBS_NA_4 | 2_PBS_PBS_NA_4 | 3_PBS_PBS_NA_4 | 4_PBS_PBS_NA_4 | 6_PBS_PBS_NA_4 | 6_PBS_PBS_NA_72 | 1_C_F_25_4 | 1_C_S_25_4 | ⋯ | 6_P_F_1_72 | 6_P_F_25_24 | 6_P_F_25_72 | 6_P_F_5_72 | 6_P_S_1_72 | 6_P_S_25_24 | 6_P_S_25_72 | 6_P_S_5_24 | 1_C_S_1_24 | 5_C_F_1_24 |\n",
       "|---|---|---|---|---|---|---|---|---|---|---|---|---|---|---|---|---|---|---|---|---|---|\n",
       "| HMOX1 |   3.912311 |   3.067190 |   3.843045 |   3.415457 |   3.234524 |   3.294681 |   3.820872 |   3.703908 | -16.250897 |   0.7883619 | ⋯ |   2.629532 | NA | -17.17265 |  -1.229183 | -17.74044 |   2.638051 |   2.409027 | -14.4664678 |   2.094107 |   1.833391 |\n",
       "| ALDH3A1 |   3.715852 |   2.605258 |   3.532961 |   2.692775 |   2.292604 |   2.443504 |   3.301868 |   3.237933 |   2.021796 |   3.6641076 | ⋯ |   1.228801 | NA | -18.06649 | -17.570614 | -18.61131 |   3.065341 |   3.037754 |  -2.0847038 |   2.279381 |   2.853769 |\n",
       "| CXCL1 |   3.626645 |   2.698362 |   3.476909 |   2.953958 |   2.444569 |   2.610919 |   3.437396 |   3.909343 |   1.919807 |   3.8811991 | ⋯ | -13.877329 | NA | -17.39302 |   2.873008 | -14.32618 |   3.331071 |   2.490578 |   0.3527938 |   1.862415 |   2.259730 |\n",
       "| CXCR1 | -20.295235 | -19.997376 | -20.310570 | -20.264881 | -20.153403 | -20.079270 | -20.230977 | -20.401478 | -20.385166 | -20.7294483 | ⋯ | -20.368879 | NA | -20.49317 | -20.586011 | -20.32967 | -20.410924 | -20.407928 | -20.2729677 | -20.551241 | -20.421350 |\n",
       "| GCLC |   3.864761 |   2.809204 |   3.715390 |   2.923745 |   2.630937 |   2.803508 |   3.521934 |   3.710346 |   1.590093 |   3.5035971 | ⋯ |   1.926795 | NA | -17.92993 | -16.870849 | -18.56933 |   2.919338 |   2.600134 |  -2.4236255 |   1.795250 |   2.218369 |\n",
       "| GCLM |   3.698636 |   2.563639 |   3.583843 |   2.774333 |   2.450760 |   2.634254 |   3.301268 |   3.517304 |   1.993447 |   3.6329506 | ⋯ |   1.301355 | NA | -17.23548 | -16.850149 | -18.19948 |   3.009904 |   2.392533 |  -1.6508262 |   2.210667 |   2.510943 |\n",
       "\n"
      ],
      "text/plain": [
       "        6_PBS_PBS_NA_24 5_PBS_PBS_NA_4 1_PBS_PBS_NA_4 2_PBS_PBS_NA_4\n",
       "HMOX1     3.912311        3.067190       3.843045       3.415457    \n",
       "ALDH3A1   3.715852        2.605258       3.532961       2.692775    \n",
       "CXCL1     3.626645        2.698362       3.476909       2.953958    \n",
       "CXCR1   -20.295235      -19.997376     -20.310570     -20.264881    \n",
       "GCLC      3.864761        2.809204       3.715390       2.923745    \n",
       "GCLM      3.698636        2.563639       3.583843       2.774333    \n",
       "        3_PBS_PBS_NA_4 4_PBS_PBS_NA_4 6_PBS_PBS_NA_4 6_PBS_PBS_NA_72 1_C_F_25_4\n",
       "HMOX1     3.234524       3.294681       3.820872       3.703908      -16.250897\n",
       "ALDH3A1   2.292604       2.443504       3.301868       3.237933        2.021796\n",
       "CXCL1     2.444569       2.610919       3.437396       3.909343        1.919807\n",
       "CXCR1   -20.153403     -20.079270     -20.230977     -20.401478      -20.385166\n",
       "GCLC      2.630937       2.803508       3.521934       3.710346        1.590093\n",
       "GCLM      2.450760       2.634254       3.301268       3.517304        1.993447\n",
       "        1_C_S_25_4  ⋯ 6_P_F_1_72 6_P_F_25_24 6_P_F_25_72 6_P_F_5_72 6_P_S_1_72\n",
       "HMOX1     0.7883619 ⋯   2.629532 NA          -17.17265    -1.229183 -17.74044 \n",
       "ALDH3A1   3.6641076 ⋯   1.228801 NA          -18.06649   -17.570614 -18.61131 \n",
       "CXCL1     3.8811991 ⋯ -13.877329 NA          -17.39302     2.873008 -14.32618 \n",
       "CXCR1   -20.7294483 ⋯ -20.368879 NA          -20.49317   -20.586011 -20.32967 \n",
       "GCLC      3.5035971 ⋯   1.926795 NA          -17.92993   -16.870849 -18.56933 \n",
       "GCLM      3.6329506 ⋯   1.301355 NA          -17.23548   -16.850149 -18.19948 \n",
       "        6_P_S_25_24 6_P_S_25_72 6_P_S_5_24  1_C_S_1_24 5_C_F_1_24\n",
       "HMOX1     2.638051    2.409027  -14.4664678   2.094107   1.833391\n",
       "ALDH3A1   3.065341    3.037754   -2.0847038   2.279381   2.853769\n",
       "CXCL1     3.331071    2.490578    0.3527938   1.862415   2.259730\n",
       "CXCR1   -20.410924  -20.407928  -20.2729677 -20.551241 -20.421350\n",
       "GCLC      2.919338    2.600134   -2.4236255   1.795250   2.218369\n",
       "GCLM      3.009904    2.392533   -1.6508262   2.210667   2.510943"
      ]
     },
     "metadata": {},
     "output_type": "display_data"
    }
   ],
   "source": [
    "normalized_matrix = justvsn(as.matrix(wider_avg_mRNA_df), minDataPointsPerStratum = 19)\n",
    "head(normalized_matrix)"
   ]
  },
  {
   "cell_type": "markdown",
   "id": "c1a5c19f-6e9c-4eb3-a891-3e68b4108987",
   "metadata": {},
   "source": [
    "# Subject Background Filter\n",
    "\n",
    "Determining what subjects have missing data for all variables delineated based on the dfs the data will be split into and analyzed. Typically a subject is removed if it has less than 75% of data. "
   ]
  },
  {
   "cell_type": "code",
   "execution_count": 9,
   "id": "f66b58a9-18b3-4bfe-b828-abb3a011c571",
   "metadata": {
    "scrolled": true
   },
   "outputs": [
    {
     "name": "stderr",
     "output_type": "stream",
     "text": [
      "\u001b[1m\u001b[22m`summarise()` has grouped output by 'Time_Point', 'Concentration',\n",
      "'Condensate', 'Burn_Condition'. You can override using the `.groups` argument.\n"
     ]
    },
    {
     "data": {
      "text/html": [
       "<table class=\"dataframe\">\n",
       "<caption>A grouped_df: 21 × 6</caption>\n",
       "<thead>\n",
       "\t<tr><th scope=col>Time_Point</th><th scope=col>Concentration</th><th scope=col>Condensate</th><th scope=col>Burn_Condition</th><th scope=col>Subject_No</th><th scope=col>Subject_Presence_Percentage</th></tr>\n",
       "\t<tr><th scope=col>&lt;chr&gt;</th><th scope=col>&lt;chr&gt;</th><th scope=col>&lt;chr&gt;</th><th scope=col>&lt;chr&gt;</th><th scope=col>&lt;chr&gt;</th><th scope=col>&lt;dbl&gt;</th></tr>\n",
       "</thead>\n",
       "<tbody>\n",
       "\t<tr><td>24</td><td>1 </td><td>C  </td><td>F  </td><td>6</td><td>15.78947</td></tr>\n",
       "\t<tr><td>24</td><td>1 </td><td>C  </td><td>S  </td><td>4</td><td>15.78947</td></tr>\n",
       "\t<tr><td>24</td><td>1 </td><td>P  </td><td>F  </td><td>6</td><td>15.78947</td></tr>\n",
       "\t<tr><td>24</td><td>1 </td><td>P  </td><td>S  </td><td>4</td><td>15.78947</td></tr>\n",
       "\t<tr><td>24</td><td>25</td><td>C  </td><td>F  </td><td>6</td><td>15.78947</td></tr>\n",
       "\t<tr><td>24</td><td>25</td><td>C  </td><td>S  </td><td>4</td><td>15.78947</td></tr>\n",
       "\t<tr><td>24</td><td>25</td><td>P  </td><td>F  </td><td>6</td><td>15.78947</td></tr>\n",
       "\t<tr><td>24</td><td>5 </td><td>C  </td><td>F  </td><td>6</td><td>15.78947</td></tr>\n",
       "\t<tr><td>24</td><td>5 </td><td>C  </td><td>S  </td><td>4</td><td>15.78947</td></tr>\n",
       "\t<tr><td>24</td><td>5 </td><td>P  </td><td>F  </td><td>5</td><td>15.78947</td></tr>\n",
       "\t<tr><td>4 </td><td>25</td><td>C  </td><td>F  </td><td>6</td><td>15.78947</td></tr>\n",
       "\t<tr><td>72</td><td>1 </td><td>C  </td><td>F  </td><td>6</td><td>15.78947</td></tr>\n",
       "\t<tr><td>72</td><td>1 </td><td>C  </td><td>S  </td><td>4</td><td>15.78947</td></tr>\n",
       "\t<tr><td>72</td><td>1 </td><td>P  </td><td>S  </td><td>4</td><td>15.78947</td></tr>\n",
       "\t<tr><td>72</td><td>25</td><td>C  </td><td>F  </td><td>6</td><td>15.78947</td></tr>\n",
       "\t<tr><td>72</td><td>25</td><td>C  </td><td>S  </td><td>4</td><td>15.78947</td></tr>\n",
       "\t<tr><td>72</td><td>25</td><td>P  </td><td>S  </td><td>3</td><td>15.78947</td></tr>\n",
       "\t<tr><td>72</td><td>5 </td><td>C  </td><td>F  </td><td>6</td><td>15.78947</td></tr>\n",
       "\t<tr><td>72</td><td>5 </td><td>P  </td><td>S  </td><td>3</td><td>15.78947</td></tr>\n",
       "\t<tr><td>72</td><td>NA</td><td>PBS</td><td>PBS</td><td>1</td><td>15.78947</td></tr>\n",
       "\t<tr><td>72</td><td>NA</td><td>PBS</td><td>PBS</td><td>5</td><td>15.78947</td></tr>\n",
       "</tbody>\n",
       "</table>\n"
      ],
      "text/latex": [
       "A grouped\\_df: 21 × 6\n",
       "\\begin{tabular}{llllll}\n",
       " Time\\_Point & Concentration & Condensate & Burn\\_Condition & Subject\\_No & Subject\\_Presence\\_Percentage\\\\\n",
       " <chr> & <chr> & <chr> & <chr> & <chr> & <dbl>\\\\\n",
       "\\hline\n",
       "\t 24 & 1  & C   & F   & 6 & 15.78947\\\\\n",
       "\t 24 & 1  & C   & S   & 4 & 15.78947\\\\\n",
       "\t 24 & 1  & P   & F   & 6 & 15.78947\\\\\n",
       "\t 24 & 1  & P   & S   & 4 & 15.78947\\\\\n",
       "\t 24 & 25 & C   & F   & 6 & 15.78947\\\\\n",
       "\t 24 & 25 & C   & S   & 4 & 15.78947\\\\\n",
       "\t 24 & 25 & P   & F   & 6 & 15.78947\\\\\n",
       "\t 24 & 5  & C   & F   & 6 & 15.78947\\\\\n",
       "\t 24 & 5  & C   & S   & 4 & 15.78947\\\\\n",
       "\t 24 & 5  & P   & F   & 5 & 15.78947\\\\\n",
       "\t 4  & 25 & C   & F   & 6 & 15.78947\\\\\n",
       "\t 72 & 1  & C   & F   & 6 & 15.78947\\\\\n",
       "\t 72 & 1  & C   & S   & 4 & 15.78947\\\\\n",
       "\t 72 & 1  & P   & S   & 4 & 15.78947\\\\\n",
       "\t 72 & 25 & C   & F   & 6 & 15.78947\\\\\n",
       "\t 72 & 25 & C   & S   & 4 & 15.78947\\\\\n",
       "\t 72 & 25 & P   & S   & 3 & 15.78947\\\\\n",
       "\t 72 & 5  & C   & F   & 6 & 15.78947\\\\\n",
       "\t 72 & 5  & P   & S   & 3 & 15.78947\\\\\n",
       "\t 72 & NA & PBS & PBS & 1 & 15.78947\\\\\n",
       "\t 72 & NA & PBS & PBS & 5 & 15.78947\\\\\n",
       "\\end{tabular}\n"
      ],
      "text/markdown": [
       "\n",
       "A grouped_df: 21 × 6\n",
       "\n",
       "| Time_Point &lt;chr&gt; | Concentration &lt;chr&gt; | Condensate &lt;chr&gt; | Burn_Condition &lt;chr&gt; | Subject_No &lt;chr&gt; | Subject_Presence_Percentage &lt;dbl&gt; |\n",
       "|---|---|---|---|---|---|\n",
       "| 24 | 1  | C   | F   | 6 | 15.78947 |\n",
       "| 24 | 1  | C   | S   | 4 | 15.78947 |\n",
       "| 24 | 1  | P   | F   | 6 | 15.78947 |\n",
       "| 24 | 1  | P   | S   | 4 | 15.78947 |\n",
       "| 24 | 25 | C   | F   | 6 | 15.78947 |\n",
       "| 24 | 25 | C   | S   | 4 | 15.78947 |\n",
       "| 24 | 25 | P   | F   | 6 | 15.78947 |\n",
       "| 24 | 5  | C   | F   | 6 | 15.78947 |\n",
       "| 24 | 5  | C   | S   | 4 | 15.78947 |\n",
       "| 24 | 5  | P   | F   | 5 | 15.78947 |\n",
       "| 4  | 25 | C   | F   | 6 | 15.78947 |\n",
       "| 72 | 1  | C   | F   | 6 | 15.78947 |\n",
       "| 72 | 1  | C   | S   | 4 | 15.78947 |\n",
       "| 72 | 1  | P   | S   | 4 | 15.78947 |\n",
       "| 72 | 25 | C   | F   | 6 | 15.78947 |\n",
       "| 72 | 25 | C   | S   | 4 | 15.78947 |\n",
       "| 72 | 25 | P   | S   | 3 | 15.78947 |\n",
       "| 72 | 5  | C   | F   | 6 | 15.78947 |\n",
       "| 72 | 5  | P   | S   | 3 | 15.78947 |\n",
       "| 72 | NA | PBS | PBS | 1 | 15.78947 |\n",
       "| 72 | NA | PBS | PBS | 5 | 15.78947 |\n",
       "\n"
      ],
      "text/plain": [
       "   Time_Point Concentration Condensate Burn_Condition Subject_No\n",
       "1  24         1             C          F              6         \n",
       "2  24         1             C          S              4         \n",
       "3  24         1             P          F              6         \n",
       "4  24         1             P          S              4         \n",
       "5  24         25            C          F              6         \n",
       "6  24         25            C          S              4         \n",
       "7  24         25            P          F              6         \n",
       "8  24         5             C          F              6         \n",
       "9  24         5             C          S              4         \n",
       "10 24         5             P          F              5         \n",
       "11 4          25            C          F              6         \n",
       "12 72         1             C          F              6         \n",
       "13 72         1             C          S              4         \n",
       "14 72         1             P          S              4         \n",
       "15 72         25            C          F              6         \n",
       "16 72         25            C          S              4         \n",
       "17 72         25            P          S              3         \n",
       "18 72         5             C          F              6         \n",
       "19 72         5             P          S              3         \n",
       "20 72         NA            PBS        PBS            1         \n",
       "21 72         NA            PBS        PBS            5         \n",
       "   Subject_Presence_Percentage\n",
       "1  15.78947                   \n",
       "2  15.78947                   \n",
       "3  15.78947                   \n",
       "4  15.78947                   \n",
       "5  15.78947                   \n",
       "6  15.78947                   \n",
       "7  15.78947                   \n",
       "8  15.78947                   \n",
       "9  15.78947                   \n",
       "10 15.78947                   \n",
       "11 15.78947                   \n",
       "12 15.78947                   \n",
       "13 15.78947                   \n",
       "14 15.78947                   \n",
       "15 15.78947                   \n",
       "16 15.78947                   \n",
       "17 15.78947                   \n",
       "18 15.78947                   \n",
       "19 15.78947                   \n",
       "20 15.78947                   \n",
       "21 15.78947                   "
      ]
     },
     "metadata": {},
     "output_type": "display_data"
    }
   ],
   "source": [
    "subject_presence_df = wider_avg_mRNA_df %>%\n",
    "    rownames_to_column(var = \"mRNA\") %>%\n",
    "    pivot_longer(cols = 2:186, names_to = \"Sample_ID\", values_to = \"Norm_ddCT\") %>%\n",
    "    separate(Sample_ID, into = c(\"Subject_No\", \"Condensate\", \"Burn_Condition\", \"Concentration\", \"Time_Point\")) %>%\n",
    "    mutate(count = ifelse(!is.na(Norm_ddCT), 1, 0)) %>%\n",
    "    group_by(Time_Point, Concentration, Condensate, Burn_Condition, Subject_No) %>%\n",
    "    summarize(Subject_Presence_Percentage = sum(count)/ length(unique(avg_mRNA_df$mRNA)) * 100) %>%\n",
    "    arrange(Subject_Presence_Percentage)\n",
    "\n",
    "subject_presence_df %>%\n",
    "    filter(Subject_Presence_Percentage < 75)"
   ]
  },
  {
   "cell_type": "markdown",
   "id": "72f4b2f1-def1-4d91-9b35-354190c5efa9",
   "metadata": {},
   "source": [
    "If we had the luxury of removing subjects, subjects 6,4,1,3, and 5 would simply be removed under all these conditions, since these subjects only have experimental values for 3 out of 19 mRNAs. However, in this case I think it's just best to impute to be able to perform later individual statistical analyses.\n",
    "\n",
    "# mRNA Background Filter\n",
    "\n",
    "Determining what variables have missing data for all variables delineated based on the dfs the data will be split into and analyzed. Typically a variable is removed if it has less than 75% of data."
   ]
  },
  {
   "cell_type": "code",
   "execution_count": 12,
   "id": "3df01b79-72e3-45e1-91b2-15f3764bee62",
   "metadata": {
    "scrolled": true
   },
   "outputs": [
    {
     "name": "stderr",
     "output_type": "stream",
     "text": [
      "\u001b[1m\u001b[22m`summarise()` has grouped output by 'Time_Point', 'Concentration',\n",
      "'Condensate', 'Burn_Condition'. You can override using the `.groups` argument.\n"
     ]
    },
    {
     "data": {
      "text/html": [
       "<table class=\"dataframe\">\n",
       "<caption>A grouped_df: 20 × 6</caption>\n",
       "<thead>\n",
       "\t<tr><th scope=col>Time_Point</th><th scope=col>Concentration</th><th scope=col>Condensate</th><th scope=col>Burn_Condition</th><th scope=col>mRNA</th><th scope=col>Variable_Presence_Percentage</th></tr>\n",
       "\t<tr><th scope=col>&lt;chr&gt;</th><th scope=col>&lt;chr&gt;</th><th scope=col>&lt;chr&gt;</th><th scope=col>&lt;chr&gt;</th><th scope=col>&lt;chr&gt;</th><th scope=col>&lt;dbl&gt;</th></tr>\n",
       "</thead>\n",
       "<tbody>\n",
       "\t<tr><td>24</td><td>NA</td><td>PBS</td><td>PBS</td><td>HMOX1  </td><td>16.66667</td></tr>\n",
       "\t<tr><td>24</td><td>1 </td><td>C  </td><td>F  </td><td>GMCSF2 </td><td>66.66667</td></tr>\n",
       "\t<tr><td>24</td><td>1 </td><td>C  </td><td>F  </td><td>IL6    </td><td>66.66667</td></tr>\n",
       "\t<tr><td>72</td><td>5 </td><td>P  </td><td>S  </td><td>IL6    </td><td>66.66667</td></tr>\n",
       "\t<tr><td>72</td><td>NA</td><td>PBS</td><td>PBS</td><td>ALDH3A1</td><td>66.66667</td></tr>\n",
       "\t<tr><td>72</td><td>NA</td><td>PBS</td><td>PBS</td><td>CXCL1  </td><td>66.66667</td></tr>\n",
       "\t<tr><td>72</td><td>NA</td><td>PBS</td><td>PBS</td><td>CXCR1  </td><td>66.66667</td></tr>\n",
       "\t<tr><td>72</td><td>NA</td><td>PBS</td><td>PBS</td><td>GCLC   </td><td>66.66667</td></tr>\n",
       "\t<tr><td>72</td><td>NA</td><td>PBS</td><td>PBS</td><td>GCLM   </td><td>66.66667</td></tr>\n",
       "\t<tr><td>72</td><td>NA</td><td>PBS</td><td>PBS</td><td>GMCSF2 </td><td>66.66667</td></tr>\n",
       "\t<tr><td>72</td><td>NA</td><td>PBS</td><td>PBS</td><td>HMOX1  </td><td>66.66667</td></tr>\n",
       "\t<tr><td>72</td><td>NA</td><td>PBS</td><td>PBS</td><td>IL1B   </td><td>66.66667</td></tr>\n",
       "\t<tr><td>72</td><td>NA</td><td>PBS</td><td>PBS</td><td>IL6    </td><td>66.66667</td></tr>\n",
       "\t<tr><td>72</td><td>NA</td><td>PBS</td><td>PBS</td><td>IL8    </td><td>66.66667</td></tr>\n",
       "\t<tr><td>72</td><td>NA</td><td>PBS</td><td>PBS</td><td>MCP1   </td><td>66.66667</td></tr>\n",
       "\t<tr><td>72</td><td>NA</td><td>PBS</td><td>PBS</td><td>MUC5AC </td><td>66.66667</td></tr>\n",
       "\t<tr><td>72</td><td>NA</td><td>PBS</td><td>PBS</td><td>MUC5B  </td><td>66.66667</td></tr>\n",
       "\t<tr><td>72</td><td>NA</td><td>PBS</td><td>PBS</td><td>NQO1   </td><td>66.66667</td></tr>\n",
       "\t<tr><td>72</td><td>NA</td><td>PBS</td><td>PBS</td><td>TBP    </td><td>66.66667</td></tr>\n",
       "\t<tr><td>72</td><td>NA</td><td>PBS</td><td>PBS</td><td>TXNRD1 </td><td>66.66667</td></tr>\n",
       "</tbody>\n",
       "</table>\n"
      ],
      "text/latex": [
       "A grouped\\_df: 20 × 6\n",
       "\\begin{tabular}{llllll}\n",
       " Time\\_Point & Concentration & Condensate & Burn\\_Condition & mRNA & Variable\\_Presence\\_Percentage\\\\\n",
       " <chr> & <chr> & <chr> & <chr> & <chr> & <dbl>\\\\\n",
       "\\hline\n",
       "\t 24 & NA & PBS & PBS & HMOX1   & 16.66667\\\\\n",
       "\t 24 & 1  & C   & F   & GMCSF2  & 66.66667\\\\\n",
       "\t 24 & 1  & C   & F   & IL6     & 66.66667\\\\\n",
       "\t 72 & 5  & P   & S   & IL6     & 66.66667\\\\\n",
       "\t 72 & NA & PBS & PBS & ALDH3A1 & 66.66667\\\\\n",
       "\t 72 & NA & PBS & PBS & CXCL1   & 66.66667\\\\\n",
       "\t 72 & NA & PBS & PBS & CXCR1   & 66.66667\\\\\n",
       "\t 72 & NA & PBS & PBS & GCLC    & 66.66667\\\\\n",
       "\t 72 & NA & PBS & PBS & GCLM    & 66.66667\\\\\n",
       "\t 72 & NA & PBS & PBS & GMCSF2  & 66.66667\\\\\n",
       "\t 72 & NA & PBS & PBS & HMOX1   & 66.66667\\\\\n",
       "\t 72 & NA & PBS & PBS & IL1B    & 66.66667\\\\\n",
       "\t 72 & NA & PBS & PBS & IL6     & 66.66667\\\\\n",
       "\t 72 & NA & PBS & PBS & IL8     & 66.66667\\\\\n",
       "\t 72 & NA & PBS & PBS & MCP1    & 66.66667\\\\\n",
       "\t 72 & NA & PBS & PBS & MUC5AC  & 66.66667\\\\\n",
       "\t 72 & NA & PBS & PBS & MUC5B   & 66.66667\\\\\n",
       "\t 72 & NA & PBS & PBS & NQO1    & 66.66667\\\\\n",
       "\t 72 & NA & PBS & PBS & TBP     & 66.66667\\\\\n",
       "\t 72 & NA & PBS & PBS & TXNRD1  & 66.66667\\\\\n",
       "\\end{tabular}\n"
      ],
      "text/markdown": [
       "\n",
       "A grouped_df: 20 × 6\n",
       "\n",
       "| Time_Point &lt;chr&gt; | Concentration &lt;chr&gt; | Condensate &lt;chr&gt; | Burn_Condition &lt;chr&gt; | mRNA &lt;chr&gt; | Variable_Presence_Percentage &lt;dbl&gt; |\n",
       "|---|---|---|---|---|---|\n",
       "| 24 | NA | PBS | PBS | HMOX1   | 16.66667 |\n",
       "| 24 | 1  | C   | F   | GMCSF2  | 66.66667 |\n",
       "| 24 | 1  | C   | F   | IL6     | 66.66667 |\n",
       "| 72 | 5  | P   | S   | IL6     | 66.66667 |\n",
       "| 72 | NA | PBS | PBS | ALDH3A1 | 66.66667 |\n",
       "| 72 | NA | PBS | PBS | CXCL1   | 66.66667 |\n",
       "| 72 | NA | PBS | PBS | CXCR1   | 66.66667 |\n",
       "| 72 | NA | PBS | PBS | GCLC    | 66.66667 |\n",
       "| 72 | NA | PBS | PBS | GCLM    | 66.66667 |\n",
       "| 72 | NA | PBS | PBS | GMCSF2  | 66.66667 |\n",
       "| 72 | NA | PBS | PBS | HMOX1   | 66.66667 |\n",
       "| 72 | NA | PBS | PBS | IL1B    | 66.66667 |\n",
       "| 72 | NA | PBS | PBS | IL6     | 66.66667 |\n",
       "| 72 | NA | PBS | PBS | IL8     | 66.66667 |\n",
       "| 72 | NA | PBS | PBS | MCP1    | 66.66667 |\n",
       "| 72 | NA | PBS | PBS | MUC5AC  | 66.66667 |\n",
       "| 72 | NA | PBS | PBS | MUC5B   | 66.66667 |\n",
       "| 72 | NA | PBS | PBS | NQO1    | 66.66667 |\n",
       "| 72 | NA | PBS | PBS | TBP     | 66.66667 |\n",
       "| 72 | NA | PBS | PBS | TXNRD1  | 66.66667 |\n",
       "\n"
      ],
      "text/plain": [
       "   Time_Point Concentration Condensate Burn_Condition mRNA   \n",
       "1  24         NA            PBS        PBS            HMOX1  \n",
       "2  24         1             C          F              GMCSF2 \n",
       "3  24         1             C          F              IL6    \n",
       "4  72         5             P          S              IL6    \n",
       "5  72         NA            PBS        PBS            ALDH3A1\n",
       "6  72         NA            PBS        PBS            CXCL1  \n",
       "7  72         NA            PBS        PBS            CXCR1  \n",
       "8  72         NA            PBS        PBS            GCLC   \n",
       "9  72         NA            PBS        PBS            GCLM   \n",
       "10 72         NA            PBS        PBS            GMCSF2 \n",
       "11 72         NA            PBS        PBS            HMOX1  \n",
       "12 72         NA            PBS        PBS            IL1B   \n",
       "13 72         NA            PBS        PBS            IL6    \n",
       "14 72         NA            PBS        PBS            IL8    \n",
       "15 72         NA            PBS        PBS            MCP1   \n",
       "16 72         NA            PBS        PBS            MUC5AC \n",
       "17 72         NA            PBS        PBS            MUC5B  \n",
       "18 72         NA            PBS        PBS            NQO1   \n",
       "19 72         NA            PBS        PBS            TBP    \n",
       "20 72         NA            PBS        PBS            TXNRD1 \n",
       "   Variable_Presence_Percentage\n",
       "1  16.66667                    \n",
       "2  66.66667                    \n",
       "3  66.66667                    \n",
       "4  66.66667                    \n",
       "5  66.66667                    \n",
       "6  66.66667                    \n",
       "7  66.66667                    \n",
       "8  66.66667                    \n",
       "9  66.66667                    \n",
       "10 66.66667                    \n",
       "11 66.66667                    \n",
       "12 66.66667                    \n",
       "13 66.66667                    \n",
       "14 66.66667                    \n",
       "15 66.66667                    \n",
       "16 66.66667                    \n",
       "17 66.66667                    \n",
       "18 66.66667                    \n",
       "19 66.66667                    \n",
       "20 66.66667                    "
      ]
     },
     "metadata": {},
     "output_type": "display_data"
    }
   ],
   "source": [
    "variable_presence_df = wider_avg_mRNA_df %>%\n",
    "    rownames_to_column(var = \"mRNA\") %>%\n",
    "    pivot_longer(cols = 2:186, names_to = \"Sample_ID\", values_to = \"Norm_ddCT\") %>%\n",
    "    separate(Sample_ID, into = c(\"Subject_No\", \"Condensate\", \"Burn_Condition\", \"Concentration\", \"Time_Point\")) %>%\n",
    "    mutate(count = ifelse(!is.na(Norm_ddCT), 1, 0)) %>%\n",
    "    group_by(Time_Point, Concentration, Condensate, Burn_Condition, mRNA) %>%\n",
    "    # calculating the percentage of variables with data in all subjects\n",
    "    summarize(Variable_Presence_Percentage = sum(count)/ length(unique(Subject_No)) * 100) %>%\n",
    "    arrange(Variable_Presence_Percentage)\n",
    "\n",
    "variable_presence_df %>%\n",
    "    filter(Variable_Presence_Percentage < 75)"
   ]
  },
  {
   "attachments": {},
   "cell_type": "markdown",
   "id": "f82e0d0c-0d87-49f4-b4ed-5a28786e8d75",
   "metadata": {},
   "source": [
    "Based on this, *HMOX1* should be removed from control samples at 24 hours exposure along with *GMCSF2* and *IL6* under their respective conditions. However, for aforementioned reasons they will be retained.\n",
    "\n",
    "# QRILC Imputation"
   ]
  },
  {
   "cell_type": "code",
   "execution_count": 9,
   "id": "17dc6c83",
   "metadata": {},
   "outputs": [
    {
     "name": "stderr",
     "output_type": "stream",
     "text": [
      "\u001b[1m\u001b[22mJoining with `by = join_by(Subject_No)`\n"
     ]
    },
    {
     "data": {
      "text/html": [
       "<table class=\"dataframe\">\n",
       "<caption>A tibble: 6 × 8</caption>\n",
       "<thead>\n",
       "\t<tr><th scope=col>Subject_No</th><th scope=col>Subject_ID</th><th scope=col>mRNA</th><th scope=col>Condensate</th><th scope=col>Burn_Condition</th><th scope=col>Concentration</th><th scope=col>Time_Point</th><th scope=col>Norm_ddCT</th></tr>\n",
       "\t<tr><th scope=col>&lt;dbl&gt;</th><th scope=col>&lt;chr&gt;</th><th scope=col>&lt;chr&gt;</th><th scope=col>&lt;chr&gt;</th><th scope=col>&lt;chr&gt;</th><th scope=col>&lt;chr&gt;</th><th scope=col>&lt;chr&gt;</th><th scope=col>&lt;dbl&gt;</th></tr>\n",
       "</thead>\n",
       "<tbody>\n",
       "\t<tr><td>6</td><td>M_6</td><td>HMOX1</td><td>PBS</td><td>PBS</td><td>NA</td><td>24</td><td>3.912311</td></tr>\n",
       "\t<tr><td>5</td><td>F_5</td><td>HMOX1</td><td>PBS</td><td>PBS</td><td>NA</td><td>4 </td><td>3.067190</td></tr>\n",
       "\t<tr><td>1</td><td>F_1</td><td>HMOX1</td><td>PBS</td><td>PBS</td><td>NA</td><td>4 </td><td>3.843045</td></tr>\n",
       "\t<tr><td>2</td><td>M_2</td><td>HMOX1</td><td>PBS</td><td>PBS</td><td>NA</td><td>4 </td><td>3.415457</td></tr>\n",
       "\t<tr><td>3</td><td>M_3</td><td>HMOX1</td><td>PBS</td><td>PBS</td><td>NA</td><td>4 </td><td>3.234524</td></tr>\n",
       "\t<tr><td>4</td><td>F_4</td><td>HMOX1</td><td>PBS</td><td>PBS</td><td>NA</td><td>4 </td><td>3.294681</td></tr>\n",
       "</tbody>\n",
       "</table>\n"
      ],
      "text/latex": [
       "A tibble: 6 × 8\n",
       "\\begin{tabular}{llllllll}\n",
       " Subject\\_No & Subject\\_ID & mRNA & Condensate & Burn\\_Condition & Concentration & Time\\_Point & Norm\\_ddCT\\\\\n",
       " <dbl> & <chr> & <chr> & <chr> & <chr> & <chr> & <chr> & <dbl>\\\\\n",
       "\\hline\n",
       "\t 6 & M\\_6 & HMOX1 & PBS & PBS & NA & 24 & 3.912311\\\\\n",
       "\t 5 & F\\_5 & HMOX1 & PBS & PBS & NA & 4  & 3.067190\\\\\n",
       "\t 1 & F\\_1 & HMOX1 & PBS & PBS & NA & 4  & 3.843045\\\\\n",
       "\t 2 & M\\_2 & HMOX1 & PBS & PBS & NA & 4  & 3.415457\\\\\n",
       "\t 3 & M\\_3 & HMOX1 & PBS & PBS & NA & 4  & 3.234524\\\\\n",
       "\t 4 & F\\_4 & HMOX1 & PBS & PBS & NA & 4  & 3.294681\\\\\n",
       "\\end{tabular}\n"
      ],
      "text/markdown": [
       "\n",
       "A tibble: 6 × 8\n",
       "\n",
       "| Subject_No &lt;dbl&gt; | Subject_ID &lt;chr&gt; | mRNA &lt;chr&gt; | Condensate &lt;chr&gt; | Burn_Condition &lt;chr&gt; | Concentration &lt;chr&gt; | Time_Point &lt;chr&gt; | Norm_ddCT &lt;dbl&gt; |\n",
       "|---|---|---|---|---|---|---|---|\n",
       "| 6 | M_6 | HMOX1 | PBS | PBS | NA | 24 | 3.912311 |\n",
       "| 5 | F_5 | HMOX1 | PBS | PBS | NA | 4  | 3.067190 |\n",
       "| 1 | F_1 | HMOX1 | PBS | PBS | NA | 4  | 3.843045 |\n",
       "| 2 | M_2 | HMOX1 | PBS | PBS | NA | 4  | 3.415457 |\n",
       "| 3 | M_3 | HMOX1 | PBS | PBS | NA | 4  | 3.234524 |\n",
       "| 4 | F_4 | HMOX1 | PBS | PBS | NA | 4  | 3.294681 |\n",
       "\n"
      ],
      "text/plain": [
       "  Subject_No Subject_ID mRNA  Condensate Burn_Condition Concentration\n",
       "1 6          M_6        HMOX1 PBS        PBS            NA           \n",
       "2 5          F_5        HMOX1 PBS        PBS            NA           \n",
       "3 1          F_1        HMOX1 PBS        PBS            NA           \n",
       "4 2          M_2        HMOX1 PBS        PBS            NA           \n",
       "5 3          M_3        HMOX1 PBS        PBS            NA           \n",
       "6 4          F_4        HMOX1 PBS        PBS            NA           \n",
       "  Time_Point Norm_ddCT\n",
       "1 24         3.912311 \n",
       "2 4          3.067190 \n",
       "3 4          3.843045 \n",
       "4 4          3.415457 \n",
       "5 4          3.234524 \n",
       "6 4          3.294681 "
      ]
     },
     "metadata": {},
     "output_type": "display_data"
    }
   ],
   "source": [
    "preimputed_df = data.frame(normalized_matrix)\n",
    "imputed_QRILC_object = impute.QRILC(preimputed_df, tune.sigma = 0.1)\n",
    "imputed_df = data.frame(imputed_QRILC_object[1]) %>%\n",
    "    rownames_to_column(var = \"mRNA\") %>%\n",
    "    pivot_longer(cols = 2:186, names_to = \"Sample_ID\", values_to = \"Norm_ddCT\") %>%\n",
    "    separate(Sample_ID, into = c(\"Subject_No\", \"Condensate\", \"Burn_Condition\", \"Concentration\", \"Time_Point\"))\n",
    "\n",
    "# dataframes automatically add X to col names if it starts with a number so removing that here\n",
    "imputed_df$Subject_No = as.numeric(gsub(\"X\",\"\", as.character(imputed_df$Subject_No)))\n",
    "\n",
    "# adding back in subject ids\n",
    "final_df = full_join(imputed_df, unique(avg_mRNA_df %>%\n",
    "                        select(c(\"Subject_No\", \"Subject_ID\"))))\n",
    "\n",
    "# rearranging cols\n",
    "final_df = final_df[,c(2,8,1,3:7)]\n",
    "head(final_df)"
   ]
  },
  {
   "cell_type": "code",
   "execution_count": 10,
   "id": "0bc784a7",
   "metadata": {},
   "outputs": [
    {
     "data": {
      "text/html": [
       "<style>\n",
       ".list-inline {list-style: none; margin:0; padding: 0}\n",
       ".list-inline>li {display: inline-block}\n",
       ".list-inline>li:not(:last-child)::after {content: \"\\00b7\"; padding: 0 .5ex}\n",
       "</style>\n",
       "<ol class=list-inline><li>4211</li><li>10</li></ol>\n"
      ],
      "text/latex": [
       "\\begin{enumerate*}\n",
       "\\item 4211\n",
       "\\item 10\n",
       "\\end{enumerate*}\n"
      ],
      "text/markdown": [
       "1. 4211\n",
       "2. 10\n",
       "\n",
       "\n"
      ],
      "text/plain": [
       "[1] 4211   10"
      ]
     },
     "metadata": {},
     "output_type": "display_data"
    },
    {
     "data": {
      "text/html": [
       "<style>\n",
       ".list-inline {list-style: none; margin:0; padding: 0}\n",
       ".list-inline>li {display: inline-block}\n",
       ".list-inline>li:not(:last-child)::after {content: \"\\00b7\"; padding: 0 .5ex}\n",
       "</style>\n",
       "<ol class=list-inline><li>3162</li><li>8</li></ol>\n"
      ],
      "text/latex": [
       "\\begin{enumerate*}\n",
       "\\item 3162\n",
       "\\item 8\n",
       "\\end{enumerate*}\n"
      ],
      "text/markdown": [
       "1. 3162\n",
       "2. 8\n",
       "\n",
       "\n"
      ],
      "text/plain": [
       "[1] 3162    8"
      ]
     },
     "metadata": {},
     "output_type": "display_data"
    },
    {
     "data": {
      "text/html": [
       "<style>\n",
       ".list-inline {list-style: none; margin:0; padding: 0}\n",
       ".list-inline>li {display: inline-block}\n",
       ".list-inline>li:not(:last-child)::after {content: \"\\00b7\"; padding: 0 .5ex}\n",
       "</style>\n",
       "<ol class=list-inline><li>3515</li><li>8</li></ol>\n"
      ],
      "text/latex": [
       "\\begin{enumerate*}\n",
       "\\item 3515\n",
       "\\item 8\n",
       "\\end{enumerate*}\n"
      ],
      "text/markdown": [
       "1. 3515\n",
       "2. 8\n",
       "\n",
       "\n"
      ],
      "text/plain": [
       "[1] 3515    8"
      ]
     },
     "metadata": {},
     "output_type": "display_data"
    }
   ],
   "source": [
    "# original data with replicates\n",
    "dim(mRNA_df)\n",
    "\n",
    "# after averaging replicates\n",
    "dim(avg_mRNA_df)\n",
    "\n",
    "# adding in missing data for remaining records and imputing\n",
    "dim(final_df)"
   ]
  },
  {
   "cell_type": "code",
   "execution_count": 13,
   "id": "c1a41156-d2e1-4a2c-96b7-34ca3ddd92c9",
   "metadata": {},
   "outputs": [
    {
     "data": {
      "text/html": [
       "0.899573257467994"
      ],
      "text/latex": [
       "0.899573257467994"
      ],
      "text/markdown": [
       "0.899573257467994"
      ],
      "text/plain": [
       "[1] 0.8995733"
      ]
     },
     "metadata": {},
     "output_type": "display_data"
    }
   ],
   "source": [
    "# percentage of total records that weren't imputed\n",
    "3162/3515"
   ]
  },
  {
   "cell_type": "code",
   "execution_count": 14,
   "id": "14bb5632-36b7-4abd-9bbe-02383b281449",
   "metadata": {},
   "outputs": [
    {
     "data": {
      "text/html": [
       "<table class=\"dataframe\">\n",
       "<caption>A grouped_df: 14 × 5</caption>\n",
       "<thead>\n",
       "\t<tr><th scope=col>Time_Point</th><th scope=col>Condensate</th><th scope=col>Burn_Condition</th><th scope=col>Concentration</th><th scope=col>n</th></tr>\n",
       "\t<tr><th scope=col>&lt;dbl&gt;</th><th scope=col>&lt;chr&gt;</th><th scope=col>&lt;chr&gt;</th><th scope=col>&lt;chr&gt;</th><th scope=col>&lt;int&gt;</th></tr>\n",
       "</thead>\n",
       "<tbody>\n",
       "\t<tr><td> 4</td><td>C  </td><td>F  </td><td>25</td><td> 95</td></tr>\n",
       "\t<tr><td> 4</td><td>C  </td><td>S  </td><td>25</td><td>114</td></tr>\n",
       "\t<tr><td> 4</td><td>P  </td><td>F  </td><td>25</td><td>114</td></tr>\n",
       "\t<tr><td> 4</td><td>P  </td><td>S  </td><td>25</td><td>114</td></tr>\n",
       "\t<tr><td> 4</td><td>PBS</td><td>PBS</td><td>NA</td><td>114</td></tr>\n",
       "\t<tr><td>24</td><td>C  </td><td>F  </td><td>1 </td><td> 93</td></tr>\n",
       "\t<tr><td>24</td><td>C  </td><td>F  </td><td>25</td><td> 98</td></tr>\n",
       "\t<tr><td>24</td><td>C  </td><td>S  </td><td>1 </td><td> 95</td></tr>\n",
       "\t<tr><td>24</td><td>C  </td><td>S  </td><td>25</td><td> 98</td></tr>\n",
       "\t<tr><td>24</td><td>P  </td><td>F  </td><td>1 </td><td> 98</td></tr>\n",
       "\t<tr><td>24</td><td>P  </td><td>F  </td><td>25</td><td> 98</td></tr>\n",
       "\t<tr><td>24</td><td>P  </td><td>S  </td><td>1 </td><td> 98</td></tr>\n",
       "\t<tr><td>24</td><td>P  </td><td>S  </td><td>25</td><td>114</td></tr>\n",
       "\t<tr><td>24</td><td>PBS</td><td>PBS</td><td>NA</td><td>109</td></tr>\n",
       "</tbody>\n",
       "</table>\n"
      ],
      "text/latex": [
       "A grouped\\_df: 14 × 5\n",
       "\\begin{tabular}{lllll}\n",
       " Time\\_Point & Condensate & Burn\\_Condition & Concentration & n\\\\\n",
       " <dbl> & <chr> & <chr> & <chr> & <int>\\\\\n",
       "\\hline\n",
       "\t  4 & C   & F   & 25 &  95\\\\\n",
       "\t  4 & C   & S   & 25 & 114\\\\\n",
       "\t  4 & P   & F   & 25 & 114\\\\\n",
       "\t  4 & P   & S   & 25 & 114\\\\\n",
       "\t  4 & PBS & PBS & NA & 114\\\\\n",
       "\t 24 & C   & F   & 1  &  93\\\\\n",
       "\t 24 & C   & F   & 25 &  98\\\\\n",
       "\t 24 & C   & S   & 1  &  95\\\\\n",
       "\t 24 & C   & S   & 25 &  98\\\\\n",
       "\t 24 & P   & F   & 1  &  98\\\\\n",
       "\t 24 & P   & F   & 25 &  98\\\\\n",
       "\t 24 & P   & S   & 1  &  98\\\\\n",
       "\t 24 & P   & S   & 25 & 114\\\\\n",
       "\t 24 & PBS & PBS & NA & 109\\\\\n",
       "\\end{tabular}\n"
      ],
      "text/markdown": [
       "\n",
       "A grouped_df: 14 × 5\n",
       "\n",
       "| Time_Point &lt;dbl&gt; | Condensate &lt;chr&gt; | Burn_Condition &lt;chr&gt; | Concentration &lt;chr&gt; | n &lt;int&gt; |\n",
       "|---|---|---|---|---|\n",
       "|  4 | C   | F   | 25 |  95 |\n",
       "|  4 | C   | S   | 25 | 114 |\n",
       "|  4 | P   | F   | 25 | 114 |\n",
       "|  4 | P   | S   | 25 | 114 |\n",
       "|  4 | PBS | PBS | NA | 114 |\n",
       "| 24 | C   | F   | 1  |  93 |\n",
       "| 24 | C   | F   | 25 |  98 |\n",
       "| 24 | C   | S   | 1  |  95 |\n",
       "| 24 | C   | S   | 25 |  98 |\n",
       "| 24 | P   | F   | 1  |  98 |\n",
       "| 24 | P   | F   | 25 |  98 |\n",
       "| 24 | P   | S   | 1  |  98 |\n",
       "| 24 | P   | S   | 25 | 114 |\n",
       "| 24 | PBS | PBS | NA | 109 |\n",
       "\n"
      ],
      "text/plain": [
       "   Time_Point Condensate Burn_Condition Concentration n  \n",
       "1   4         C          F              25             95\n",
       "2   4         C          S              25            114\n",
       "3   4         P          F              25            114\n",
       "4   4         P          S              25            114\n",
       "5   4         PBS        PBS            NA            114\n",
       "6  24         C          F              1              93\n",
       "7  24         C          F              25             98\n",
       "8  24         C          S              1              95\n",
       "9  24         C          S              25             98\n",
       "10 24         P          F              1              98\n",
       "11 24         P          F              25             98\n",
       "12 24         P          S              1              98\n",
       "13 24         P          S              25            114\n",
       "14 24         PBS        PBS            NA            109"
      ]
     },
     "metadata": {},
     "output_type": "display_data"
    },
    {
     "data": {
      "text/html": [
       "0.909774436090226"
      ],
      "text/latex": [
       "0.909774436090226"
      ],
      "text/markdown": [
       "0.909774436090226"
      ],
      "text/plain": [
       "[1] 0.9097744"
      ]
     },
     "metadata": {},
     "output_type": "display_data"
    }
   ],
   "source": [
    "# percentage of records that weren't imputed that were used in downstream analyses\n",
    "avg_mRNA_df %>%\n",
    "    filter(Time_Point != 72, Concentration != 5) %>%\n",
    "    group_by(Time_Point, Condensate, Burn_Condition, Concentration) %>%\n",
    "    count()\n",
    "\n",
    "1452/1596"
   ]
  },
  {
   "cell_type": "code",
   "execution_count": 12,
   "id": "1a5837e6",
   "metadata": {},
   "outputs": [],
   "source": [
    "# exporting\n",
    "write.xlsx(final_df, paste0(Output,\"/\", \"Processed_mRNA_Data_\", cur_date, \".xlsx\"), rowNames = FALSE)"
   ]
  }
 ],
 "metadata": {
  "kernelspec": {
   "display_name": "R",
   "language": "R",
   "name": "ir"
  },
  "language_info": {
   "codemirror_mode": "r",
   "file_extension": ".r",
   "mimetype": "text/x-r-source",
   "name": "R",
   "pygments_lexer": "r",
   "version": "4.3.1"
  }
 },
 "nbformat": 4,
 "nbformat_minor": 5
}
